{
 "cells": [
  {
   "cell_type": "code",
   "execution_count": 30,
   "metadata": {
    "collapsed": true
   },
   "outputs": [],
   "source": [
    "import numpy as np"
   ]
  },
  {
   "cell_type": "code",
   "execution_count": 31,
   "metadata": {},
   "outputs": [],
   "source": [
    "c = [3, 10]\n",
    "d = [[1, 9], [7, 3]]\n",
    "f_i = [[14, 6], [18, 2]]\n",
    "f_s = [[8, 32], [24, 16]]\n",
    "f_g = np.array([[6, 3, 21], [12, 9, 9], [12, 6, 12], [18, 9, 3]])"
   ]
  },
  {
   "cell_type": "code",
   "execution_count": 56,
   "metadata": {},
   "outputs": [
    {
     "name": "stdout",
     "output_type": "stream",
     "text": [
      "0 0 0 0 0 0\n",
      "0 0 0 0 1 0\n",
      "0 0 0 0 2 0\n",
      "0 0 0 1 0 0\n",
      "0 0 0 1 1 0\n",
      "0 0 0 1 2 0\n",
      "0 0 1 0 0 1\n",
      "0 0 1 0 1 1\n",
      "0 0 1 0 2 1\n",
      "0 0 1 1 0 1\n",
      "0 0 1 1 1 1\n",
      "0 0 1 1 2 1\n",
      "0 1 0 0 0 2\n",
      "0 1 0 0 1 2\n",
      "0 1 0 0 2 2\n",
      "0 1 0 1 0 2\n",
      "0 1 0 1 1 2\n",
      "0 1 0 1 2 2\n",
      "0 1 1 0 0 3\n",
      "0 1 1 0 1 3\n",
      "0 1 1 0 2 3\n",
      "0 1 1 1 0 3\n",
      "0 1 1 1 1 3\n",
      "0 1 1 1 2 3\n",
      "1 0 0 0 0 0\n",
      "1 0 0 0 1 0\n",
      "1 0 0 0 2 0\n",
      "1 0 0 1 0 0\n",
      "1 0 0 1 1 0\n",
      "1 0 0 1 2 0\n",
      "1 0 1 0 0 1\n",
      "1 0 1 0 1 1\n",
      "1 0 1 0 2 1\n",
      "1 0 1 1 0 1\n",
      "1 0 1 1 1 1\n",
      "1 0 1 1 2 1\n",
      "1 1 0 0 0 2\n",
      "1 1 0 0 1 2\n",
      "1 1 0 0 2 2\n",
      "1 1 0 1 0 2\n",
      "1 1 0 1 1 2\n",
      "1 1 0 1 2 2\n",
      "1 1 1 0 0 3\n",
      "1 1 1 0 1 3\n",
      "1 1 1 0 2 3\n",
      "1 1 1 1 0 3\n",
      "1 1 1 1 1 3\n",
      "1 1 1 1 2 3\n",
      "[1030080, 567600, 1522320] 48\n"
     ]
    }
   ],
   "source": [
    "s, count = [0, 0, 0], 0\n",
    "for i in range(0, 2): # c\n",
    "    for j in range (0, 2): # d\n",
    "        for k in range(0, 2): # i\n",
    "            for l in range(0, 2): # s\n",
    "                for m in range (0, 3): # g\n",
    "                    print(i, j, k, l, m, j * 2 + k)\n",
    "                    count += 1\n",
    "                    s[m] += c[i]* d[i][j] * f_i[j][k] * f_s[k][l] * f_g[j * 2 + k][m] \n",
    "#                     break\n",
    "print(s, count)"
   ]
  },
  {
   "cell_type": "code",
   "execution_count": 54,
   "metadata": {},
   "outputs": [
    {
     "name": "stdout",
     "output_type": "stream",
     "text": [
      "1 0 0 0 0 0\n",
      "1 0 0 1 0 0\n",
      "1 0 0 0 1 0\n",
      "1 0 0 1 1 0\n",
      "1 0 0 0 2 0\n",
      "1 0 0 1 2 0\n",
      "1 0 1 0 0 1\n",
      "1 0 1 1 0 1\n",
      "1 0 1 0 1 1\n",
      "1 0 1 1 1 1\n",
      "1 0 1 0 2 1\n",
      "1 0 1 1 2 1\n",
      "1 1 0 0 0 2\n",
      "1 1 0 1 0 2\n",
      "1 1 0 0 1 2\n",
      "1 1 0 1 1 2\n",
      "1 1 0 0 2 2\n",
      "1 1 0 1 2 2\n",
      "1 1 1 0 0 3\n",
      "1 1 1 1 0 3\n",
      "1 1 1 0 1 3\n",
      "1 1 1 1 1 3\n",
      "1 1 1 0 2 3\n",
      "1 1 1 1 2 3\n",
      "[710400, 1689600] 24\n"
     ]
    }
   ],
   "source": [
    "s, count = [0, 0], 0\n",
    "for i in range(1, 2): # c\n",
    "    for j in range (0, 2): # d\n",
    "        for k in range(0, 2): # i\n",
    "            for m in range (0, 3): # g\n",
    "                for l in range(0, 2): # s\n",
    "                    print(i, j, k, l, m, j * 2 + k)\n",
    "                    count += 1\n",
    "                    s[l] += c[i]* d[i][j] * f_i[j][k] * f_s[k][l] * f_g[j * 2 + k][m] \n",
    "#                     break\n",
    "print(s, count)"
   ]
  },
  {
   "cell_type": "code",
   "execution_count": 55,
   "metadata": {},
   "outputs": [
    {
     "name": "stdout",
     "output_type": "stream",
     "text": [
      "0 0 0 0 2 0\n",
      "0 1 0 0 2 2\n",
      "0 0 0 1 2 0\n",
      "0 1 0 1 2 2\n",
      "0 0 1 0 2 1\n",
      "0 1 1 0 2 3\n",
      "0 0 1 1 2 1\n",
      "0 1 1 1 2 3\n",
      "1 0 0 0 2 0\n",
      "1 1 0 0 2 2\n",
      "1 0 0 1 2 0\n",
      "1 1 0 1 2 2\n",
      "1 0 1 0 2 1\n",
      "1 1 1 0 2 3\n",
      "1 0 1 1 2 1\n",
      "1 1 1 1 2 3\n",
      "[1016160, 506160] 16\n"
     ]
    }
   ],
   "source": [
    "s, count = [0, 0], 0\n",
    "for i in range(0, 2): # c\n",
    "    for k in range(0, 2): # i\n",
    "        for m in range (2, 3): # g\n",
    "            for l in range(0, 2): # s\n",
    "                for j in range (0, 2): # d\n",
    "                    print(i, j, k, l, m, j * 2 + k)\n",
    "                    count += 1\n",
    "                    s[j] += c[i]* d[i][j] * f_i[j][k] * f_s[k][l] * f_g[j * 2 + k][m] \n",
    "#                     break\n",
    "print(s, count)"
   ]
  }
 ],
 "metadata": {
  "kernelspec": {
   "display_name": "Python 3",
   "language": "python",
   "name": "python3"
  },
  "language_info": {
   "codemirror_mode": {
    "name": "ipython",
    "version": 3
   },
   "file_extension": ".py",
   "mimetype": "text/x-python",
   "name": "python",
   "nbconvert_exporter": "python",
   "pygments_lexer": "ipython3",
   "version": "3.6.1"
  }
 },
 "nbformat": 4,
 "nbformat_minor": 2
}
