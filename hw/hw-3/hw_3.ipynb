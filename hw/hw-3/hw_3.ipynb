{
 "cells": [
  {
   "cell_type": "markdown",
   "metadata": {
    "collapsed": true
   },
   "source": [
    "## Helper tools"
   ]
  },
  {
   "cell_type": "code",
   "execution_count": 2,
   "metadata": {
    "collapsed": true
   },
   "outputs": [],
   "source": [
    "import scipy.io as sio\n",
    "import numpy as np\n",
    "import itertools\n",
    "import matplotlib.pyplot as plt\n",
    "from sklearn.metrics import accuracy_score, precision_score, recall_score, confusion_matrix\n",
    "%matplotlib inline"
   ]
  },
  {
   "cell_type": "code",
   "execution_count": 3,
   "metadata": {
    "collapsed": true
   },
   "outputs": [],
   "source": [
    "def plot_confusion_matrix(cm, classes,\n",
    "                          normalize=False,\n",
    "                          title='Confusion matrix',\n",
    "                          cmap=plt.cm.Blues):\n",
    "    \"\"\"\n",
    "    This function prints and plots the confusion matrix.\n",
    "    Normalization can be applied by setting `normalize=True`.\n",
    "    \"\"\"\n",
    "    if normalize:\n",
    "        cm = cm.astype('float') / cm.sum(axis=1)[:, np.newaxis]\n",
    "        print(\"Normalized confusion matrix\")\n",
    "    else:\n",
    "        print('Confusion matrix, without normalization')\n",
    "\n",
    "#     print(cm)\n",
    "\n",
    "    plt.imshow(cm, interpolation='nearest', cmap=cmap)\n",
    "    plt.title(title)\n",
    "    plt.colorbar()\n",
    "    tick_marks = np.arange(len(classes))\n",
    "    plt.xticks(tick_marks, classes, rotation=45)\n",
    "    plt.yticks(tick_marks, classes)\n",
    "\n",
    "    fmt = '.2f' if normalize else 'd'\n",
    "    thresh = cm.max() / 2.\n",
    "    for i, j in itertools.product(range(cm.shape[0]), range(cm.shape[1])):\n",
    "        plt.text(j, i, format(cm[i, j], fmt),\n",
    "                 horizontalalignment=\"center\",\n",
    "                 color=\"white\" if cm[i, j] > thresh else \"black\")\n",
    "\n",
    "    plt.tight_layout()\n",
    "    plt.ylabel('True label')\n",
    "    plt.xlabel('Predicted label')"
   ]
  },
  {
   "cell_type": "markdown",
   "metadata": {},
   "source": [
    "## Exercise 2"
   ]
  },
  {
   "cell_type": "code",
   "execution_count": 4,
   "metadata": {
    "collapsed": true
   },
   "outputs": [],
   "source": [
    "mat = sio.loadmat('assignment6_1.mat')\n",
    "A = mat['A']\n",
    "B = mat['B']"
   ]
  },
  {
   "cell_type": "markdown",
   "metadata": {},
   "source": [
    "### Part 1a\n",
    "\n",
    "Mean and variance estimation for classes A and B"
   ]
  },
  {
   "cell_type": "code",
   "execution_count": 5,
   "metadata": {
    "collapsed": true
   },
   "outputs": [],
   "source": [
    "def mean(matr):\n",
    "    return np.mean(matr, axis = 1)\n",
    "\n",
    "def covariance(matr):\n",
    "    return np.cov(matr)"
   ]
  },
  {
   "cell_type": "code",
   "execution_count": 6,
   "metadata": {
    "collapsed": true
   },
   "outputs": [],
   "source": [
    "mean_A, mean_B = mean(A), mean(B)\n",
    "cov_A, cov_B = covariance(A), covariance(B)"
   ]
  },
  {
   "cell_type": "code",
   "execution_count": 7,
   "metadata": {},
   "outputs": [
    {
     "ename": "SyntaxError",
     "evalue": "invalid syntax (<ipython-input-7-c61faa51645b>, line 1)",
     "output_type": "error",
     "traceback": [
      "\u001b[0;36m  File \u001b[0;32m\"<ipython-input-7-c61faa51645b>\"\u001b[0;36m, line \u001b[0;32m1\u001b[0m\n\u001b[0;31m    print \"cov_A = {}, cov_b = {}\".format(cov_A, cov_B)\u001b[0m\n\u001b[0m                                 ^\u001b[0m\n\u001b[0;31mSyntaxError\u001b[0m\u001b[0;31m:\u001b[0m invalid syntax\n"
     ]
    }
   ],
   "source": [
    "print \"cov_A = {}, cov_b = {}\".format(cov_A, cov_B)"
   ]
  },
  {
   "cell_type": "code",
   "execution_count": null,
   "metadata": {},
   "outputs": [],
   "source": [
    "print \"mean_A = {}, mean_B = {}\".format(mean_A, mean_B)"
   ]
  },
  {
   "cell_type": "markdown",
   "metadata": {},
   "source": [
    "### Part 1b\n",
    "No --- further explananations in the report"
   ]
  },
  {
   "cell_type": "markdown",
   "metadata": {},
   "source": [
    "### Part 1c"
   ]
  },
  {
   "cell_type": "code",
   "execution_count": null,
   "metadata": {},
   "outputs": [],
   "source": [
    "total = np.concatenate((A, B), axis = 1)\n",
    "cov_total = covariance(total)\n",
    "mean_total = mean(total)\n",
    "print \"mean = \", mean_total\n",
    "print \"cov_total = \", cov_total\n",
    "\n",
    "\n",
    "U, s, V = np.linalg.svd(cov_total)\n",
    "print \"eigenvalues = \", s"
   ]
  },
  {
   "cell_type": "code",
   "execution_count": null,
   "metadata": {},
   "outputs": [],
   "source": [
    "u1 = U[:, 0]\n",
    "print \"first eigenvector = \", u1"
   ]
  },
  {
   "cell_type": "code",
   "execution_count": null,
   "metadata": {},
   "outputs": [],
   "source": [
    "var_ratio = s[0] / sum(s)\n",
    "print \"variance covered = \", var_ratio"
   ]
  },
  {
   "cell_type": "markdown",
   "metadata": {},
   "source": [
    "### Part 1d\n",
    "\n",
    "Project the points on the first eigenvector"
   ]
  },
  {
   "cell_type": "code",
   "execution_count": 8,
   "metadata": {},
   "outputs": [
    {
     "ename": "NameError",
     "evalue": "name 'u1' is not defined",
     "output_type": "error",
     "traceback": [
      "\u001b[0;31m---------------------------------------------------------------------------\u001b[0m",
      "\u001b[0;31mNameError\u001b[0m                                 Traceback (most recent call last)",
      "\u001b[0;32m<ipython-input-8-270c74127466>\u001b[0m in \u001b[0;36m<module>\u001b[0;34m()\u001b[0m\n\u001b[0;32m----> 1\u001b[0;31m \u001b[0mproj_A\u001b[0m \u001b[0;34m=\u001b[0m \u001b[0mA\u001b[0m\u001b[0;34m.\u001b[0m\u001b[0mT\u001b[0m\u001b[0;34m.\u001b[0m\u001b[0mdot\u001b[0m\u001b[0;34m(\u001b[0m\u001b[0mu1\u001b[0m\u001b[0;34m)\u001b[0m\u001b[0;34m\u001b[0m\u001b[0m\n\u001b[0m\u001b[1;32m      2\u001b[0m \u001b[0mproj_B\u001b[0m \u001b[0;34m=\u001b[0m \u001b[0mB\u001b[0m\u001b[0;34m.\u001b[0m\u001b[0mT\u001b[0m\u001b[0;34m.\u001b[0m\u001b[0mdot\u001b[0m\u001b[0;34m(\u001b[0m\u001b[0mu1\u001b[0m\u001b[0;34m)\u001b[0m\u001b[0;34m\u001b[0m\u001b[0m\n",
      "\u001b[0;31mNameError\u001b[0m: name 'u1' is not defined"
     ]
    }
   ],
   "source": [
    "proj_A = A.T.dot(u1)\n",
    "proj_B = B.T.dot(u1)"
   ]
  },
  {
   "cell_type": "markdown",
   "metadata": {},
   "source": [
    "Mean and variance of the projected data for each class separately (to fit the gaussian distribution)"
   ]
  },
  {
   "cell_type": "code",
   "execution_count": 12,
   "metadata": {},
   "outputs": [
    {
     "name": "stdout",
     "output_type": "stream",
     "text": [
      "mean_proj_A =  -4.15394557387 , mean_proj_B =  6.2309183608\n",
      "var_proj_A =  20.4782002529 , var_proj_B =  13.7120291418\n"
     ]
    }
   ],
   "source": [
    "mean_proj_A, mean_proj_B = np.mean(proj_A), np.mean(proj_B)\n",
    "var_proj_A, var_proj_B = np.var(proj_A, ddof = 1), np.var(proj_B, ddof = 1)\n",
    "print \"mean_proj_A = \", mean_proj_A, \", mean_proj_B = \", mean_proj_B\n",
    "print \"var_proj_A = \", var_proj_A, \", var_proj_B = \", var_proj_B"
   ]
  },
  {
   "cell_type": "markdown",
   "metadata": {},
   "source": [
    "Compute the posterior probability for classification:"
   ]
  },
  {
   "cell_type": "code",
   "execution_count": 13,
   "metadata": {
    "collapsed": true
   },
   "outputs": [],
   "source": [
    "from scipy.stats import multivariate_normal"
   ]
  },
  {
   "cell_type": "code",
   "execution_count": 14,
   "metadata": {},
   "outputs": [
    {
     "name": "stdout",
     "output_type": "stream",
     "text": [
      "0.6 0.4\n"
     ]
    }
   ],
   "source": [
    "p_A = float(len(proj_A)) / (len(proj_A) + len(proj_B))\n",
    "p_B = float(len(proj_B)) / (len(proj_A) + len(proj_B))\n",
    "print p_A, p_B"
   ]
  },
  {
   "cell_type": "code",
   "execution_count": 15,
   "metadata": {
    "collapsed": true
   },
   "outputs": [],
   "source": [
    "def posterior_proj(x, eigenvector, mean_A, mean_B, var_A, var_B):\n",
    "    proj = x.dot(eigenvector)\n",
    "    print \"proj = \", proj\n",
    "    p_x_A = multivariate_normal.pdf(proj, mean = mean_A, cov = var_A)\n",
    "    p_x_B = multivariate_normal.pdf(proj, mean = mean_B, cov = var_B)\n",
    "    return p_x_A * p_A / (p_x_A * p_A  + p_x_B * p_B)\n",
    "\n",
    "def classify(point, eigenvector, post_function, mean_A, mean_B, var_A, var_B):\n",
    "    posterior_c_A = post_function(point, eigenvector, mean_A, mean_B, var_A, var_B)\n",
    "    print \"posterior_A = \", posterior_c_A\n",
    "    return \"A\" if posterior_c_A > 0.5 else \"B\""
   ]
  },
  {
   "cell_type": "code",
   "execution_count": 16,
   "metadata": {},
   "outputs": [
    {
     "name": "stdout",
     "output_type": "stream",
     "text": [
      "proj =  -5.81800969889\n",
      "posterior_A =  0.995640724581\n",
      "class for x =  A\n"
     ]
    }
   ],
   "source": [
    "class_x = classify(np.array([2, 1, 7]) - mean_total, u1, posterior_proj, \n",
    "                   mean_proj_A, mean_proj_B, var_proj_A, var_proj_B)\n",
    "print \"class for x = \", class_x"
   ]
  },
  {
   "cell_type": "markdown",
   "metadata": {},
   "source": [
    "### Part 1e"
   ]
  },
  {
   "cell_type": "code",
   "execution_count": 17,
   "metadata": {},
   "outputs": [
    {
     "data": {
      "text/plain": [
       "array([ 0.60063901, -0.79829193, -0.04430321])"
      ]
     },
     "execution_count": 17,
     "metadata": {},
     "output_type": "execute_result"
    }
   ],
   "source": [
    "U[:, 1]"
   ]
  },
  {
   "cell_type": "code",
   "execution_count": 18,
   "metadata": {},
   "outputs": [
    {
     "name": "stdout",
     "output_type": "stream",
     "text": [
      "variance covered =  0.997466311285\n"
     ]
    }
   ],
   "source": [
    "var_ratio = (s[0] + s[1]) / sum(s)\n",
    "print \"variance covered = \", var_ratio"
   ]
  },
  {
   "cell_type": "code",
   "execution_count": 19,
   "metadata": {
    "collapsed": true
   },
   "outputs": [],
   "source": [
    "proj_two_A = A.T.dot(U[:, :2])\n",
    "proj_two_B = B.T.dot(U[:, [0, 1]])"
   ]
  },
  {
   "cell_type": "code",
   "execution_count": 20,
   "metadata": {},
   "outputs": [
    {
     "name": "stdout",
     "output_type": "stream",
     "text": [
      "mean_proj_two_A =  [-5.62064352  0.01879364] , mean_proj_two_B =  [ 4.76422041 -0.24487686]\n",
      "cov_proj_A = \n",
      "[[ 20.47820025  -0.9538918 ]\n",
      " [ -0.9538918    1.63649841]] ,\n",
      "cov_proj_B = \n",
      "[[ 13.71202914   3.08439962]\n",
      " [  3.08439962   1.38019906]]\n"
     ]
    }
   ],
   "source": [
    "mean_proj_two_A, mean_proj_two_B = np.mean(proj_two_A, axis = 0), np.mean(proj_two_B, axis = 0)\n",
    "cov_proj_A, cov_proj_B = np.cov(proj_two_A.T), np.cov(proj_two_B.T)\n",
    "print \"mean_proj_two_A = \", mean_proj_two_A, \", mean_proj_two_B = \", mean_proj_two_B\n",
    "print \"cov_proj_A = \\n\", cov_proj_A, \",\\ncov_proj_B = \\n\", cov_proj_B"
   ]
  },
  {
   "cell_type": "code",
   "execution_count": 21,
   "metadata": {},
   "outputs": [
    {
     "name": "stdout",
     "output_type": "stream",
     "text": [
      "proj =  [-7.28470765  0.09286361]\n",
      "posterior_A =  0.999992329261\n",
      "class for x =  A\n"
     ]
    }
   ],
   "source": [
    "class_two_x = classify(np.array([2, 1, 7]), U[:, [0, 1]], posterior_proj,\n",
    "                       mean_proj_two_A, mean_proj_two_B, cov_proj_A, cov_proj_B)\n",
    "print \"class for x = \", class_two_x"
   ]
  },
  {
   "cell_type": "markdown",
   "metadata": {},
   "source": [
    "# Exercise 3"
   ]
  },
  {
   "cell_type": "code",
   "execution_count": 22,
   "metadata": {
    "collapsed": true
   },
   "outputs": [],
   "source": [
    "train = sio.loadmat('breast_cancer/breast_cancer_train.mat')['breast_cancer_train']\n",
    "val = sio.loadmat('breast_cancer/breast_cancer_val.mat')['breast_cancer_val']"
   ]
  },
  {
   "cell_type": "code",
   "execution_count": 23,
   "metadata": {},
   "outputs": [
    {
     "name": "stdout",
     "output_type": "stream",
     "text": [
      "priors = [(2, 0.65036674816625917), (4, 0.34963325183374083)]\n"
     ]
    }
   ],
   "source": [
    "labels = {'b': 2, 'm': 4}\n",
    "names, counts = np.unique(train[:, 10], return_counts = True)\n",
    "priors = counts / float(sum(counts))\n",
    "print \"priors =\", zip(names, priors)"
   ]
  },
  {
   "cell_type": "code",
   "execution_count": 57,
   "metadata": {
    "collapsed": true
   },
   "outputs": [],
   "source": [
    "def estimate_pdf_class(features, class_label, pca = False, eigenvector = None, verbose = False):\n",
    "    if pca:\n",
    "        data = train[train[:, 10] == labels[class_label]][:, 1:10].dot(eigenvector)\n",
    "    else:\n",
    "        data = train[train[:, 10] == labels[class_label]][:, features]\n",
    "    mean = np.mean(data, axis = 0)\n",
    "    cov = np.cov(data.T)\n",
    "    if verbose:\n",
    "        print \"columns = {}, \\n class = {}\".format(features, class_label)\n",
    "        print \"mean = {}, \\n cov = \\n {}\".format(mean, cov)\n",
    "        print('=====================')\n",
    "    return multivariate_normal(mean = mean, cov = cov)\n",
    "\n",
    "def posterior(x, pdf_b, pdf_m, priors, pca=False, eigenvector = None):\n",
    "    if pca:\n",
    "        x = x.dot(eigenvector)\n",
    "    p_x_b = pdf_b.pdf(x)\n",
    "    p_x_m = pdf_m.pdf(x)\n",
    "    return p_x_b * priors[0] / (p_x_b * priors[0]  + p_x_m * priors[1])\n",
    "\n",
    "def classify(point, posterior, pdf_b, pdf_m, priors, pca=False, eigenvector = None):\n",
    "    posterior_c_b = posterior(point, pdf_b, pdf_m, priors, pca, eigenvector)\n",
    "    return labels['b'] if posterior_c_b > 0.5 else labels['m']"
   ]
  },
  {
   "cell_type": "code",
   "execution_count": 25,
   "metadata": {
    "collapsed": true
   },
   "outputs": [],
   "source": [
    "def estimate_metrics(y_test, output):\n",
    "    acc = accuracy_score(y_test, output)\n",
    "    print \"error = \", 1 - acc\n",
    "\n",
    "    prec_m = precision_score(y_test, output, pos_label = labels['m'])\n",
    "    rec_m = recall_score(y_test, output, pos_label = labels['m'])\n",
    "    print \"precision = {}, recall = {}\".format(prec_m, rec_m)\n",
    "\n",
    "    cm = confusion_matrix(y_test, output)\n",
    "    plot_confusion_matrix(cm, ['b', 'm'])\n",
    "\n",
    "def report_statistics(x_test, y_test, pdf_b, pdf_m, priors, pca=False, eigenvector = None):\n",
    "    output = [classify(x, posterior, pdf_b, pdf_m, priors, pca, eigenvector) for x in x_test]\n",
    "    estimate_metrics(y_test, output)\n",
    "    "
   ]
  },
  {
   "cell_type": "markdown",
   "metadata": {},
   "source": [
    "## Part a\n",
    "\n",
    "### x2 (Clump Thickness) only"
   ]
  },
  {
   "cell_type": "code",
   "execution_count": 26,
   "metadata": {},
   "outputs": [
    {
     "name": "stdout",
     "output_type": "stream",
     "text": [
      "columns = 1, \n",
      " class = b\n",
      "mean = 2.93609022556, \n",
      " cov = 2.73929635409\n",
      "=====================\n",
      "columns = 1, \n",
      " class = m\n",
      "mean = 7.13286713287, \n",
      " cov = 6.21461636955\n",
      "=====================\n"
     ]
    }
   ],
   "source": [
    "features = 1\n",
    "pdf_b = estimate_pdf_class(features, 'b', verbose = True)\n",
    "pdf_m = estimate_pdf_class(features, 'm', verbose = True)"
   ]
  },
  {
   "cell_type": "markdown",
   "metadata": {},
   "source": [
    "#### Statistics for train set (x2 clump Thickness only)"
   ]
  },
  {
   "cell_type": "code",
   "execution_count": 27,
   "metadata": {},
   "outputs": [
    {
     "name": "stdout",
     "output_type": "stream",
     "text": [
      "error =  0.136919315403\n",
      "precision = 0.906542056075, recall = 0.678321678322\n",
      "Confusion matrix, without normalization\n"
     ]
    },
    {
     "data": {
      "image/png": "[encoded data removed]",
      "text/plain": [
       "<matplotlib.figure.Figure at 0x1153bea10>"
      ]
     },
     "metadata": {},
     "output_type": "display_data"
    }
   ],
   "source": [
    "report_statistics(train[:, features], train[:, 10], pdf_b, pdf_m, priors)"
   ]
  },
  {
   "cell_type": "markdown",
   "metadata": {},
   "source": [
    "#### Statistics for val set (x2 clump Thickness only)"
   ]
  },
  {
   "cell_type": "code",
   "execution_count": 28,
   "metadata": {},
   "outputs": [
    {
     "name": "stdout",
     "output_type": "stream",
     "text": [
      "error =  0.14598540146\n",
      "precision = 0.868421052632, recall = 0.6875\n",
      "Confusion matrix, without normalization\n"
     ]
    },
    {
     "data": {
      "image/png": "[encoded data removed]",
      "text/plain": [
       "<matplotlib.figure.Figure at 0x116918dd0>"
      ]
     },
     "metadata": {},
     "output_type": "display_data"
    }
   ],
   "source": [
    "report_statistics(val[:, features], val[:, 10], pdf_b, pdf_m, priors)"
   ]
  },
  {
   "cell_type": "markdown",
   "metadata": {},
   "source": [
    "### First principal component"
   ]
  },
  {
   "cell_type": "code",
   "execution_count": 29,
   "metadata": {},
   "outputs": [
    {
     "name": "stdout",
     "output_type": "stream",
     "text": [
      "eigenvalues =  [ 47.76526357   5.14873614   4.28161683   2.936769     2.83583048\n",
      "   2.39663936   1.86315484   1.40895111   0.85125718]\n"
     ]
    }
   ],
   "source": [
    "cov_total = np.cov(train[:, 1:10].T)\n",
    "U, s, V = np.linalg.svd(cov_total)\n",
    "print \"eigenvalues = \", s"
   ]
  },
  {
   "cell_type": "code",
   "execution_count": 30,
   "metadata": {},
   "outputs": [
    {
     "name": "stdout",
     "output_type": "stream",
     "text": [
      "variance covered =  0.68738650364\n"
     ]
    }
   ],
   "source": [
    "var_ratio = s[0] / sum(s)\n",
    "print \"variance covered = \", var_ratio"
   ]
  },
  {
   "cell_type": "code",
   "execution_count": 31,
   "metadata": {},
   "outputs": [
    {
     "name": "stdout",
     "output_type": "stream",
     "text": [
      "columns = 1 princ component, \n",
      " class = b\n",
      "mean = -4.71846346489, \n",
      " cov = 3.56621022232\n",
      "=====================\n",
      "columns = 1 princ component, \n",
      " class = m\n",
      "mean = -17.7296048436, \n",
      " cov = 19.7099754791\n",
      "=====================\n"
     ]
    }
   ],
   "source": [
    "pdf_b = estimate_pdf_class(\"1 princ component\", 'b', pca =  True, eigenvector = U[:, 0], verbose = True)\n",
    "pdf_m = estimate_pdf_class(\"1 princ component\", 'm', pca =  True, eigenvector = U[:, 0], verbose = True)"
   ]
  },
  {
   "cell_type": "markdown",
   "metadata": {},
   "source": [
    "#### Statistics for train set (first principal component)"
   ]
  },
  {
   "cell_type": "code",
   "execution_count": 32,
   "metadata": {},
   "outputs": [
    {
     "name": "stdout",
     "output_type": "stream",
     "text": [
      "error =  0.0366748166259\n",
      "precision = 0.932432432432, recall = 0.965034965035\n",
      "Confusion matrix, without normalization\n"
     ]
    },
    {
     "data": {
      "image/png": "[encoded data removed]",
      "text/plain": [
       "<matplotlib.figure.Figure at 0x116cfdad0>"
      ]
     },
     "metadata": {},
     "output_type": "display_data"
    }
   ],
   "source": [
    "report_statistics(train[:, 1:10], train[:, 10], pdf_b, pdf_m, priors, pca=True, eigenvector = U[:, 0])"
   ]
  },
  {
   "cell_type": "markdown",
   "metadata": {},
   "source": [
    "#### Statistics for val set (first principal component)"
   ]
  },
  {
   "cell_type": "code",
   "execution_count": 33,
   "metadata": {},
   "outputs": [
    {
     "name": "stdout",
     "output_type": "stream",
     "text": [
      "error =  0.014598540146\n",
      "precision = 0.969387755102, recall = 0.989583333333\n",
      "Confusion matrix, without normalization\n"
     ]
    },
    {
     "data": {
      "image/png": "[encoded data removed]",
      "text/plain": [
       "<matplotlib.figure.Figure at 0x116918c50>"
      ]
     },
     "metadata": {},
     "output_type": "display_data"
    }
   ],
   "source": [
    "report_statistics(val[:, 1:10], val[:, 10], pdf_b, pdf_m, priors, pca=True, eigenvector = U[:, 0])"
   ]
  },
  {
   "cell_type": "markdown",
   "metadata": {},
   "source": [
    "### x2 and x7 (Bare Nuclei) only"
   ]
  },
  {
   "cell_type": "code",
   "execution_count": 34,
   "metadata": {},
   "outputs": [
    {
     "name": "stdout",
     "output_type": "stream",
     "text": [
      "columns = [1, 6], \n",
      " class = b\n",
      "mean = [ 2.93609023  1.36466165], \n",
      " cov = [[ 2.73929635  0.2196198 ]\n",
      " [ 0.2196198   1.47029366]]\n",
      "=====================\n",
      "columns = [1, 6], \n",
      " class = m\n",
      "mean = [ 7.13286713  7.70629371], \n",
      " cov = [[ 6.21461637  0.08155225]\n",
      " [ 0.08155225  9.08214321]]\n",
      "=====================\n"
     ]
    }
   ],
   "source": [
    "features = [1, 6]\n",
    "pdf_b = estimate_pdf_class(features, 'b', verbose = True)\n",
    "pdf_m = estimate_pdf_class(features, 'm', verbose = True)"
   ]
  },
  {
   "cell_type": "markdown",
   "metadata": {},
   "source": [
    "#### Statistics for train set (x2 and x7 (Bare Nuclei) only)"
   ]
  },
  {
   "cell_type": "code",
   "execution_count": 35,
   "metadata": {},
   "outputs": [
    {
     "name": "stdout",
     "output_type": "stream",
     "text": [
      "error =  0.0586797066015\n",
      "precision = 0.916083916084, recall = 0.916083916084\n",
      "Confusion matrix, without normalization\n"
     ]
    },
    {
     "data": {
      "image/png": "[encoded data removed]",
      "text/plain": [
       "<matplotlib.figure.Figure at 0x116cc7fd0>"
      ]
     },
     "metadata": {},
     "output_type": "display_data"
    }
   ],
   "source": [
    "report_statistics(train[:, features], train[:, 10], pdf_b, pdf_m, priors)"
   ]
  },
  {
   "cell_type": "markdown",
   "metadata": {},
   "source": [
    "#### Statistics for val set (x2 and x7 (Bare Nuclei) only)"
   ]
  },
  {
   "cell_type": "code",
   "execution_count": 36,
   "metadata": {},
   "outputs": [
    {
     "name": "stdout",
     "output_type": "stream",
     "text": [
      "error =  0.0547445255474\n",
      "precision = 0.917525773196, recall = 0.927083333333\n",
      "Confusion matrix, without normalization\n"
     ]
    },
    {
     "data": {
      "image/png": "[encoded data removed]",
      "text/plain": [
       "<matplotlib.figure.Figure at 0x11776e6d0>"
      ]
     },
     "metadata": {},
     "output_type": "display_data"
    }
   ],
   "source": [
    "report_statistics(val[:, features], val[:, 10], pdf_b, pdf_m, priors)"
   ]
  },
  {
   "cell_type": "markdown",
   "metadata": {},
   "source": [
    "### First two principal components"
   ]
  },
  {
   "cell_type": "code",
   "execution_count": 37,
   "metadata": {},
   "outputs": [
    {
     "name": "stdout",
     "output_type": "stream",
     "text": [
      "variance covered =  0.761481598492\n"
     ]
    }
   ],
   "source": [
    "var_ratio = (s[0] + s[1]) / sum(s)\n",
    "print \"variance covered = \", var_ratio"
   ]
  },
  {
   "cell_type": "code",
   "execution_count": 53,
   "metadata": {},
   "outputs": [
    {
     "name": "stdout",
     "output_type": "stream",
     "text": [
      "columns = 1, 2 princ component, \n",
      " class = b\n",
      "mean = [-4.71846346  0.65931253], \n",
      " cov = [[ 3.56621022 -0.12858286]\n",
      " [-0.12858286  0.93153259]]\n",
      "=====================\n",
      "columns = 1, 2 princ component, \n",
      " class = m\n",
      "mean = [-17.72960484   0.20953023], \n",
      " cov = [[ 19.70997548  -3.59290625]\n",
      " [ -3.59290625  12.9226298 ]]\n",
      "=====================\n"
     ]
    }
   ],
   "source": [
    "pdf_b = estimate_pdf_class(\"1, 2 princ component\", 'b', pca =  True, eigenvector = U[:, [0, 1]], verbose = True)\n",
    "pdf_m = estimate_pdf_class(\"1, 2 princ component\", 'm', pca =  True, eigenvector = U[:, [0, 1]], verbose = True)"
   ]
  },
  {
   "cell_type": "markdown",
   "metadata": {},
   "source": [
    "#### Statistics for train set (first two principal components)"
   ]
  },
  {
   "cell_type": "code",
   "execution_count": 39,
   "metadata": {},
   "outputs": [
    {
     "name": "stdout",
     "output_type": "stream",
     "text": [
      "error =  0.0366748166259\n",
      "precision = 0.926666666667, recall = 0.972027972028\n",
      "Confusion matrix, without normalization\n"
     ]
    },
    {
     "data": {
      "image/png": "[encoded data removed]",
      "text/plain": [
       "<matplotlib.figure.Figure at 0x11776e890>"
      ]
     },
     "metadata": {},
     "output_type": "display_data"
    }
   ],
   "source": [
    "report_statistics(train[:, 1:10], train[:, 10], pdf_b, pdf_m, priors, pca=True, eigenvector = U[:, [0, 1]])"
   ]
  },
  {
   "cell_type": "markdown",
   "metadata": {},
   "source": [
    "#### Statistics for val set  (first two principal components)"
   ]
  },
  {
   "cell_type": "code",
   "execution_count": 40,
   "metadata": {},
   "outputs": [
    {
     "name": "stdout",
     "output_type": "stream",
     "text": [
      "error =  0.021897810219\n",
      "precision = 0.959183673469, recall = 0.979166666667\n",
      "Confusion matrix, without normalization\n"
     ]
    },
    {
     "data": {
      "image/png": "[encoded data removed]",
      "text/plain": [
       "<matplotlib.figure.Figure at 0x117689a10>"
      ]
     },
     "metadata": {},
     "output_type": "display_data"
    }
   ],
   "source": [
    "report_statistics(val[:, 1:10], val[:, 10], pdf_b, pdf_m, priors, pca=True, eigenvector = U[:, [0, 1]])"
   ]
  },
  {
   "cell_type": "markdown",
   "metadata": {},
   "source": [
    "### The principal components which explain 80% of the variance"
   ]
  },
  {
   "cell_type": "code",
   "execution_count": 41,
   "metadata": {},
   "outputs": [
    {
     "name": "stdout",
     "output_type": "stream",
     "text": [
      "variance covered =  0.823098041194\n"
     ]
    }
   ],
   "source": [
    "var_ratio = (s[0] + s[1] + s[2]) / sum(s)\n",
    "print \"variance covered = \", var_ratio"
   ]
  },
  {
   "cell_type": "code",
   "execution_count": 55,
   "metadata": {},
   "outputs": [
    {
     "name": "stdout",
     "output_type": "stream",
     "text": [
      "columns = 1, 2, 3 princ component, \n",
      " class = b\n",
      "mean = [-4.71846346  0.65931253  1.05929594], \n",
      " cov = [[ 3.56621022 -0.12858286 -0.6351888 ]\n",
      " [-0.12858286  0.93153259  0.31212293]\n",
      " [-0.6351888   0.31212293  1.69077815]]\n",
      "=====================\n",
      "columns = 1, 2, 3 princ component, \n",
      " class = m\n",
      "mean = [-17.72960484   0.20953023   1.43781209], \n",
      " cov = [[ 19.70997548  -3.59290625   4.41095285]\n",
      " [ -3.59290625  12.9226298   -0.47097832]\n",
      " [  4.41095285  -0.47097832   9.05294776]]\n",
      "=====================\n"
     ]
    }
   ],
   "source": [
    "pdf_b = estimate_pdf_class(\"1, 2, 3 princ component\", 'b', pca =  True, eigenvector = U[:, [0, 1, 2]], verbose = True)\n",
    "pdf_m = estimate_pdf_class(\"1, 2, 3 princ component\", 'm', pca =  True, eigenvector = U[:, [0, 1, 2]], verbose = True)"
   ]
  },
  {
   "cell_type": "markdown",
   "metadata": {},
   "source": [
    "#### Statistics for train set (80% of the variance)"
   ]
  },
  {
   "cell_type": "code",
   "execution_count": 56,
   "metadata": {},
   "outputs": [
    {
     "name": "stdout",
     "output_type": "stream",
     "text": [
      "error =  0.0366748166259\n",
      "precision = 0.921052631579, recall = 0.979020979021\n",
      "Confusion matrix, without normalization\n"
     ]
    },
    {
     "data": {
      "image/png": "[encoded data removed]",
      "text/plain": [
       "<matplotlib.figure.Figure at 0x1153bea10>"
      ]
     },
     "metadata": {},
     "output_type": "display_data"
    }
   ],
   "source": [
    "report_statistics(train[:, 1:10], train[:, 10], pdf_b, pdf_m, priors, pca=True, eigenvector = U[:, [0, 1, 2]])"
   ]
  },
  {
   "cell_type": "markdown",
   "metadata": {},
   "source": [
    "#### Statistics for val set (80% of the variance)"
   ]
  },
  {
   "cell_type": "code",
   "execution_count": 44,
   "metadata": {},
   "outputs": [
    {
     "name": "stdout",
     "output_type": "stream",
     "text": [
      "error =  0.021897810219\n",
      "precision = 0.959183673469, recall = 0.979166666667\n",
      "Confusion matrix, without normalization\n"
     ]
    },
    {
     "data": {
      "image/png": "[encoded data removed]",
      "text/plain": [
       "<matplotlib.figure.Figure at 0x11786cf50>"
      ]
     },
     "metadata": {},
     "output_type": "display_data"
    }
   ],
   "source": [
    "report_statistics(val[:, 1:10], val[:, 10], pdf_b, pdf_m, priors, pca=True, eigenvector = U[:, [0, 1, 2]])"
   ]
  },
  {
   "cell_type": "markdown",
   "metadata": {},
   "source": [
    "### all inputs (except sample code number)"
   ]
  },
  {
   "cell_type": "code",
   "execution_count": 58,
   "metadata": {},
   "outputs": [
    {
     "name": "stdout",
     "output_type": "stream",
     "text": [
      "columns = [1 2 3 4 5 6 7 8 9], \n",
      " class = b\n",
      "mean = [ 2.93609023  1.30827068  1.42481203  1.35714286  2.07142857  1.36466165\n",
      "  2.07518797  1.30827068  1.07518797], \n",
      " cov = \n",
      " [[  2.73929635e+00   3.97134345e-01   4.87629451e-01   3.36118598e-01\n",
      "    1.93261456e-01   2.19619804e-01   2.99163002e-01   5.10341892e-01\n",
      "    1.04979430e-03]\n",
      " [  3.97134345e-01   6.97063413e-01   6.00624202e-01   1.80053908e-01\n",
      "    2.60916442e-01   4.26783941e-01   2.89941836e-01   5.38572847e-01\n",
      "    3.33380621e-02]\n",
      " [  4.87629451e-01   6.00624202e-01   9.99985814e-01   1.94878706e-01\n",
      "    2.78975741e-01   4.02993332e-01   2.20768903e-01   4.94963825e-01\n",
      "    9.44814867e-03]\n",
      " [  3.36118598e-01   1.80053908e-01   1.94878706e-01   8.71967655e-01\n",
      "    1.85714286e-01   4.39083558e-01   1.39083558e-01   2.93261456e-01\n",
      "    5.98382749e-02]\n",
      " [  1.93261456e-01   2.60916442e-01   2.78975741e-01   1.85714286e-01\n",
      "    7.45822102e-01   3.02156334e-01   1.07816712e-01   3.40161725e-01\n",
      "   -5.39083558e-03]\n",
      " [  2.19619804e-01   4.26783941e-01   4.02993332e-01   4.39083558e-01\n",
      "    3.02156334e-01   1.47029366e+00   2.78138743e-01   5.13576394e-01\n",
      "    1.15874592e-01]\n",
      " [  2.99163002e-01   2.89941836e-01   2.20768903e-01   1.39083558e-01\n",
      "    1.07816712e-01   2.78138743e-01   1.28489147e+00   4.33338062e-01\n",
      "   -9.44814867e-03]\n",
      " [  5.10341892e-01   5.38572847e-01   4.94963825e-01   2.93261456e-01\n",
      "    3.40161725e-01   5.13576394e-01   4.33338062e-01   1.08196907e+00\n",
      "    5.22059867e-02]\n",
      " [  1.04979430e-03   3.33380621e-02   9.44814867e-03   5.98382749e-02\n",
      "   -5.39083558e-03   1.15874592e-01  -9.44814867e-03   5.22059867e-02\n",
      "    2.43382040e-01]]\n",
      "=====================\n",
      "columns = [1 2 3 4 5 6 7 8 9], \n",
      " class = m\n",
      "mean = [ 7.13286713  6.48251748  6.33566434  5.43356643  4.97202797  7.70629371\n",
      "  5.72727273  5.76923077  2.71328671], \n",
      " cov = \n",
      " [[  6.21461637   1.05515611   1.3142421   -0.95237861   0.03191175\n",
      "    0.08155225   0.46606914   0.53791983   1.03836305]\n",
      " [  1.05515611   8.15286122   5.31576874   3.00059096   3.21077514\n",
      "    0.29060376   2.56914213   3.32340195   1.49847336]\n",
      " [  1.3142421    5.31576874   6.74569093   2.30414656   2.40382153\n",
      "    0.66970354   2.11331626   3.19068256   0.73776224]\n",
      " [ -0.95237861   3.00059096   2.30414656  10.68393578   1.38545258\n",
      "    2.64232247   2.73175416   1.94582882   1.72377622]\n",
      " [  0.03191175   3.21077514   2.40382153   1.38545258   5.44991628\n",
      "   -0.25475229   1.41485275   2.12730228   2.06938836]\n",
      " [  0.08155225   0.29060376   0.66970354   2.64232247  -0.25475229\n",
      "    9.08214321   0.67285531  -0.8851571   -0.54959125]\n",
      " [  0.46606914   2.56914213   2.11331626   2.73175416   1.41485275\n",
      "    0.67285531   5.00256082   2.16901408   0.84379001]\n",
      " [  0.53791983   3.32340195   3.19068256   1.94582882   2.12730228\n",
      "   -0.8851571    2.16901408  11.03791983   2.29252438]\n",
      " [  1.03836305   1.49847336   0.73776224   1.72377622   2.06938836\n",
      "   -0.54959125   0.84379001   2.29252438   7.2482025 ]]\n",
      "=====================\n"
     ]
    }
   ],
   "source": [
    "features = np.arange(1, 10)\n",
    "pdf_b = estimate_pdf_class(features, 'b', verbose = True)\n",
    "pdf_m = estimate_pdf_class(features, 'm', verbose = True)"
   ]
  },
  {
   "cell_type": "markdown",
   "metadata": {},
   "source": [
    "#### Statistics for train set (all inputs)"
   ]
  },
  {
   "cell_type": "code",
   "execution_count": 46,
   "metadata": {},
   "outputs": [
    {
     "name": "stdout",
     "output_type": "stream",
     "text": [
      "error =  0.0488997555012\n",
      "precision = 0.896774193548, recall = 0.972027972028\n",
      "Confusion matrix, without normalization\n"
     ]
    },
    {
     "data": {
      "image/png": "[encoded data removed]",
      "text/plain": [
       "<matplotlib.figure.Figure at 0x11776e050>"
      ]
     },
     "metadata": {},
     "output_type": "display_data"
    }
   ],
   "source": [
    "report_statistics(train[:, features], train[:, 10], pdf_b, pdf_m, priors)"
   ]
  },
  {
   "cell_type": "markdown",
   "metadata": {},
   "source": [
    "#### Statistics for val set  (all inputs)"
   ]
  },
  {
   "cell_type": "code",
   "execution_count": 47,
   "metadata": {},
   "outputs": [
    {
     "name": "stdout",
     "output_type": "stream",
     "text": [
      "error =  0.0328467153285\n",
      "precision = 0.930693069307, recall = 0.979166666667\n",
      "Confusion matrix, without normalization\n"
     ]
    },
    {
     "data": {
      "image/png": "[encoded data removed]",
      "text/plain": [
       "<matplotlib.figure.Figure at 0x1174bec10>"
      ]
     },
     "metadata": {},
     "output_type": "display_data"
    }
   ],
   "source": [
    "report_statistics(val[:, features], val[:, 10], pdf_b, pdf_m, priors)"
   ]
  },
  {
   "cell_type": "markdown",
   "metadata": {},
   "source": [
    "## Exercise 4"
   ]
  },
  {
   "cell_type": "code",
   "execution_count": 48,
   "metadata": {
    "collapsed": true
   },
   "outputs": [],
   "source": [
    "from sklearn.linear_model import LogisticRegression"
   ]
  },
  {
   "cell_type": "code",
   "execution_count": 49,
   "metadata": {},
   "outputs": [
    {
     "data": {
      "text/plain": [
       "LogisticRegression(C=1.0, class_weight=None, dual=False, fit_intercept=True,\n",
       "          intercept_scaling=1, max_iter=100, multi_class='ovr', n_jobs=1,\n",
       "          penalty='l2', random_state=None, solver='liblinear', tol=0.0001,\n",
       "          verbose=0, warm_start=False)"
      ]
     },
     "execution_count": 49,
     "metadata": {},
     "output_type": "execute_result"
    }
   ],
   "source": [
    "clf = LogisticRegression()\n",
    "clf.fit(train[:, 1:10], train[:, 10])"
   ]
  },
  {
   "cell_type": "code",
   "execution_count": 50,
   "metadata": {
    "collapsed": true
   },
   "outputs": [],
   "source": [
    "output_train = clf.predict(train[:, 1:10])\n",
    "output_val = clf.predict(val[:, 1:10])"
   ]
  },
  {
   "cell_type": "markdown",
   "metadata": {},
   "source": [
    "#### Statistics for train set (logistic classifier)"
   ]
  },
  {
   "cell_type": "code",
   "execution_count": 51,
   "metadata": {},
   "outputs": [
    {
     "name": "stdout",
     "output_type": "stream",
     "text": [
      "error =  0.0342298288509\n",
      "precision = 0.957446808511, recall = 0.944055944056\n",
      "Confusion matrix, without normalization\n"
     ]
    },
    {
     "data": {
      "image/png": "[encoded data removed]",
      "text/plain": [
       "<matplotlib.figure.Figure at 0x1174be410>"
      ]
     },
     "metadata": {},
     "output_type": "display_data"
    }
   ],
   "source": [
    "estimate_metrics(train[:, 10], output_train)"
   ]
  },
  {
   "cell_type": "markdown",
   "metadata": {},
   "source": [
    "#### Statistics for val set (logistic classifier)"
   ]
  },
  {
   "cell_type": "code",
   "execution_count": 52,
   "metadata": {},
   "outputs": [
    {
     "name": "stdout",
     "output_type": "stream",
     "text": [
      "error =  0.021897810219\n",
      "precision = 0.978723404255, recall = 0.958333333333\n",
      "Confusion matrix, without normalization\n"
     ]
    },
    {
     "data": {
      "image/png": "[encoded data removed]",
      "text/plain": [
       "<matplotlib.figure.Figure at 0x10df36fd0>"
      ]
     },
     "metadata": {},
     "output_type": "display_data"
    }
   ],
   "source": [
    "estimate_metrics(val[:, 10], output_val)"
   ]
  }
 ],
 "metadata": {
  "kernelspec": {
   "display_name": "Python 3",
   "language": "python",
   "name": "python3"
  },
  "language_info": {
   "codemirror_mode": {
    "name": "ipython",
    "version": 3
   },
   "file_extension": ".py",
   "mimetype": "text/x-python",
   "name": "python",
   "nbconvert_exporter": "python",
   "pygments_lexer": "ipython3",
   "version": "3.6.1"
  }
 },
 "nbformat": 4,
 "nbformat_minor": 2
}
