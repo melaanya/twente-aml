{
 "cells": [
  {
   "cell_type": "code",
   "execution_count": 4,
   "metadata": {},
   "outputs": [],
   "source": [
    "import catboost\n",
    "import matplotlib\n",
    "import matplotlib.pyplot as plt\n",
    "import numpy as np\n",
    "import pandas as pd\n",
    "import seaborn as sns\n",
    "import time\n",
    "import xgboost as xgb\n",
    "\n",
    "from catboost import Pool, CatBoostRegressor, cv\n",
    "from itertools import product, chain\n",
    "from matplotlib.backends.backend_pdf import PdfPages\n",
    "from matplotlib.pylab import rcParams\n",
    "from mlxtend.preprocessing import DenseTransformer\n",
    "\n",
    "from sklearn.datasets import load_boston\n",
    "from sklearn.ensemble import GradientBoostingRegressor\n",
    "from sklearn.metrics import mean_squared_error\n",
    "from sklearn.model_selection import cross_val_score, train_test_split, GridSearchCV, KFold\n",
    "from sklearn.pipeline import Pipeline\n",
    "from sklearn.preprocessing import Imputer, LabelEncoder\n",
    "\n",
    "from paramsearch import paramsearch\n",
    "import util\n",
    "reload(util)\n",
    "from util import plot_top_features, crossvaltest, catboost_param_tune\n",
    "\n",
    "import warnings\n",
    "warnings.filterwarnings(\"ignore\", category=DeprecationWarning) \n",
    "\n",
    "\n",
    "# matplotlib settings\n",
    "matplotlib.style.use('ggplot')\n",
    "rcParams['figure.figsize'] = 12, 8\n",
    "rcParams['font.size'] = 12\n",
    "rcParams['axes.facecolor'] = 'white'"
   ]
  },
  {
   "cell_type": "code",
   "execution_count": 2,
   "metadata": {},
   "outputs": [
    {
     "data": {
      "application/javascript": [
       "if (!(\"Notification\" in window)) {\n",
       "    alert(\"This browser does not support desktop notifications, so the %%notify magic will not work.\");\n",
       "} else if (Notification.permission !== 'granted' && Notification.permission !== 'denied') {\n",
       "    Notification.requestPermission(function (permission) {\n",
       "        if(!('permission' in Notification)) {\n",
       "            Notification.permission = permission;\n",
       "        }\n",
       "    })\n",
       "}\n"
      ],
      "text/plain": [
       "<IPython.core.display.Javascript object>"
      ]
     },
     "metadata": {},
     "output_type": "display_data"
    }
   ],
   "source": [
    "# ! pip install jupyternotify\n",
    "%load_ext jupyternotify"
   ]
  },
  {
   "cell_type": "code",
   "execution_count": 3,
   "metadata": {},
   "outputs": [],
   "source": [
    "n_time = 3\n",
    "n_folds = 5"
   ]
  },
  {
   "cell_type": "code",
   "execution_count": 50,
   "metadata": {},
   "outputs": [],
   "source": [
    "dataset = load_boston()\n",
    "df_train = pd.DataFrame(dataset.data, columns=dataset.feature_names)\n",
    "y_train = np.log1p(pd.Series(dataset.target))"
   ]
  },
  {
   "cell_type": "code",
   "execution_count": 41,
   "metadata": {},
   "outputs": [],
   "source": [
    "cat_indices = [3]\n",
    "train_pool = Pool(df_train, y_train, cat_features=cat_indices)"
   ]
  },
  {
   "cell_type": "code",
   "execution_count": 42,
   "metadata": {},
   "outputs": [],
   "source": [
    "params = {'loss_function': 'RMSE', 'custom_metric': 'RMSE', \n",
    "          'eval_metric': 'RMSE', 'logging_level': 'Silent'}\n",
    "model = CatBoostRegressor(loss_function = 'RMSE', custom_metric = 'RMSE', \n",
    "                          eval_metric= 'RMSE', calc_feature_importance = True)"
   ]
  },
  {
   "cell_type": "code",
   "execution_count": 43,
   "metadata": {},
   "outputs": [
    {
     "data": {
      "text/plain": [
       "<catboost.core._CatBoostBase at 0x7fde60864c50>"
      ]
     },
     "execution_count": 43,
     "metadata": {},
     "output_type": "execute_result"
    }
   ],
   "source": [
    "model.fit(train_pool, logging_level='Silent')"
   ]
  },
  {
   "cell_type": "code",
   "execution_count": 44,
   "metadata": {},
   "outputs": [
    {
     "data": {
      "image/png": "[encoded data removed]",
      "text/plain": [
       "<matplotlib.figure.Figure at 0x7fde608786d0>"
      ]
     },
     "metadata": {},
     "output_type": "display_data"
    }
   ],
   "source": [
    "_ = plot_top_features(model, train_pool.get_feature_names(), min(20, df_train.shape[1]))"
   ]
  },
  {
   "cell_type": "code",
   "execution_count": 52,
   "metadata": {},
   "outputs": [
    {
     "name": "stdout",
     "output_type": "stream",
     "text": [
      "average cv time (CatBoost) = 63.47\n",
      "RMSLE (CatBoost) = 0.159111227487\n"
     ]
    }
   ],
   "source": [
    "time_sum = 0\n",
    "for i in range(0,n_time):\n",
    "    start = time.time()\n",
    "    cv_data = cv(params, train_pool, n_folds)\n",
    "    end = time.time()\n",
    "    time_sum += (end-start)\n",
    "    \n",
    "    \n",
    "print('average cv time (CatBoost) = {0:.2f}'.format(time_sum / n_time))\n",
    "print('RMSLE (CatBoost) = {0}'.format(cv_data['RMSE_test_avg'][-1]))"
   ]
  },
  {
   "cell_type": "code",
   "execution_count": 53,
   "metadata": {},
   "outputs": [
    {
     "name": "stdout",
     "output_type": "stream",
     "text": [
      "\n",
      "Iteration with suspicious time 1.02 sec ignored in overall statistics.\n",
      "\n",
      "Iteration with suspicious time 1.01 sec ignored in overall statistics.\n",
      "{'learning_rate': 0.1, 'depth': 3, 'loss_function': 'RMSE', 'iterations': 1000, 'logging_level': 'Silent', 'custom_metric': 'RMSE'}\n"
     ]
    }
   ],
   "source": [
    "cat_grid_params = {\n",
    "    'depth': [1, 2, 3],\n",
    "    'learning_rate': [0.1, 0.05, 0.01],\n",
    "    'iterations' : [100, 500, 1000]\n",
    "}\n",
    "best_params = catboost_param_tune(cat_grid_params, df_train, y_train, cat_indices, 5)\n",
    "print(best_params)"
   ]
  },
  {
   "cell_type": "code",
   "execution_count": 54,
   "metadata": {},
   "outputs": [],
   "source": [
    "best_params['loss_function'] = 'RMSE'\n",
    "best_params['custom_metric'] = 'RMSE'\n",
    "best_params['calc_feature_importance'] = True"
   ]
  },
  {
   "cell_type": "code",
   "execution_count": 55,
   "metadata": {},
   "outputs": [
    {
     "data": {
      "application/javascript": [
       "$(document).ready(\n",
       "    function() {\n",
       "        function appendUniqueDiv(){\n",
       "            // append a div with our uuid so we can check that it's already\n",
       "            // been sent and avoid duplicates on page reload\n",
       "            var notifiedDiv = document.createElement(\"div\")\n",
       "            notifiedDiv.id = \"abc31dbc-fb0d-4fbe-958b-a8c8d894bdd8\"\n",
       "            element.append(notifiedDiv)\n",
       "        }\n",
       "\n",
       "        // only send notifications if the pageload is complete; this will\n",
       "        // help stop extra notifications when a saved notebook is loaded,\n",
       "        // which during testing gives us state \"interactive\", not \"complete\"\n",
       "        if (document.readyState === 'complete') {\n",
       "            // check for the div that signifies that the notification\n",
       "            // was already sent\n",
       "            if (document.getElementById(\"abc31dbc-fb0d-4fbe-958b-a8c8d894bdd8\") === null) {\n",
       "                var notificationPayload = {\"body\": \"Cell execution has finished!\", \"requireInteraction\": false, \"icon\": \"/static/base/images/favicon.ico\"};\n",
       "                if (Notification.permission !== 'denied') {\n",
       "                    if (Notification.permission !== 'granted') { \n",
       "                        Notification.requestPermission(function (permission) {\n",
       "                            if(!('permission' in Notification)) {\n",
       "                                Notification.permission = permission\n",
       "                            }\n",
       "                        })\n",
       "                    }\n",
       "                    if (Notification.permission === 'granted') {\n",
       "                    var notification = new Notification(\"Jupyter Notebook\", notificationPayload)\n",
       "                    appendUniqueDiv()\n",
       "                    notification.onclick = function () {\n",
       "                        window.focus();\n",
       "                        this.close();\n",
       "                        };\n",
       "                    } \n",
       "                }     \n",
       "            }\n",
       "        }\n",
       "    }\n",
       ")\n"
      ],
      "text/plain": [
       "<IPython.core.display.Javascript object>"
      ]
     },
     "metadata": {},
     "output_type": "display_data"
    }
   ],
   "source": [
    "%%notify\n",
    "model = CatBoostRegressor(**best_params)\n",
    "cv_params = model.get_params()\n",
    "del cv_params['calc_feature_importance']\n",
    "\n",
    "\n",
    "av_time = 0\n",
    "for i in range(0, n_time):\n",
    "    t = time.time()\n",
    "    cv_data = crossvaltest(cv_params, df_train, y_train, cat_indices, n_folds)\n",
    "    av_time += time.time() - t"
   ]
  },
  {
   "cell_type": "code",
   "execution_count": 56,
   "metadata": {},
   "outputs": [
    {
     "name": "stdout",
     "output_type": "stream",
     "text": [
      "average cv time (CatBoost) = 56.33\n",
      "RMSLE (CatBoost) = 0.142323744564\n"
     ]
    }
   ],
   "source": [
    "print('average cv time (CatBoost) = {0:.2f}'.format(av_time / n_time))\n",
    "print('RMSLE (CatBoost) = {0}'.format(-cv_data)) "
   ]
  }
 ],
 "metadata": {
  "kernelspec": {
   "display_name": "Python 3",
   "language": "python",
   "name": "python3"
  },
  "language_info": {
   "codemirror_mode": {
    "name": "ipython",
    "version": 2
   },
   "file_extension": ".py",
   "mimetype": "text/x-python",
   "name": "python",
   "nbconvert_exporter": "python",
   "pygments_lexer": "ipython2",
   "version": "2.7.6"
  }
 },
 "nbformat": 4,
 "nbformat_minor": 2
}
