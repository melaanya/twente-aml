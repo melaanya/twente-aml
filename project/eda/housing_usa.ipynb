{
 "cells": [
  {
   "cell_type": "code",
   "execution_count": 55,
   "metadata": {},
   "outputs": [],
   "source": [
    "import catboost\n",
    "import matplotlib\n",
    "import matplotlib.pyplot as plt\n",
    "import numpy as np\n",
    "import pandas as pd\n",
    "import seaborn as sns\n",
    "import time\n",
    "import xgboost as xgb\n",
    "\n",
    "from catboost import Pool, CatBoostRegressor, CatBoostClassifier, cv\n",
    "from matplotlib.backends.backend_pdf import PdfPages\n",
    "from matplotlib.pylab import rcParams\n",
    "from mlxtend.preprocessing import DenseTransformer\n",
    "\n",
    "from sklearn.ensemble import GradientBoostingRegressor\n",
    "from sklearn.metrics import mean_squared_error\n",
    "from sklearn.model_selection import cross_val_score, train_test_split, GridSearchCV\n",
    "from sklearn.pipeline import Pipeline\n",
    "from sklearn.preprocessing import Imputer, LabelEncoder\n",
    "\n",
    "import warnings\n",
    "warnings.filterwarnings(\"ignore\", category=DeprecationWarning) \n",
    "\n",
    "\n",
    "# matplotlib settings\n",
    "matplotlib.style.use('ggplot')\n",
    "rcParams['figure.figsize'] = 12, 8\n",
    "rcParams['font.size'] = 12\n",
    "rcParams['axes.facecolor'] = 'white'"
   ]
  },
  {
   "cell_type": "code",
   "execution_count": 2,
   "metadata": {},
   "outputs": [
    {
     "data": {
      "application/javascript": [
       "if (!(\"Notification\" in window)) {\n",
       "    alert(\"This browser does not support desktop notifications, so the %%notify magic will not work.\");\n",
       "} else if (Notification.permission !== 'granted' && Notification.permission !== 'denied') {\n",
       "    Notification.requestPermission(function (permission) {\n",
       "        if(!('permission' in Notification)) {\n",
       "            Notification.permission = permission;\n",
       "        }\n",
       "    })\n",
       "}\n"
      ],
      "text/plain": [
       "<IPython.core.display.Javascript object>"
      ]
     },
     "metadata": {},
     "output_type": "display_data"
    }
   ],
   "source": [
    "# ! pip install jupyternotify\n",
    "%load_ext jupyternotify"
   ]
  },
  {
   "cell_type": "code",
   "execution_count": 3,
   "metadata": {},
   "outputs": [],
   "source": [
    "n_time = 3\n",
    "n_folds = 5"
   ]
  },
  {
   "cell_type": "code",
   "execution_count": 4,
   "metadata": {},
   "outputs": [],
   "source": [
    "def plot_top_features(model, feature_names, num):\n",
    "    top = sorted(zip(feature_names, model.feature_importances_),\n",
    "                  key = lambda x: x[1], reverse = True)[:num]\n",
    "    top = sorted(top, key = lambda x: x[1])\n",
    "    plot_top = zip(*top)\n",
    "    plt.figure()\n",
    "    plt.barh(range(0, len(plot_top[0])), plot_top[1], tick_label = plot_top[0])\n",
    "    plt.title('Feature importance')\n",
    "    plt.show()\n",
    "    return top"
   ]
  },
  {
   "cell_type": "markdown",
   "metadata": {},
   "source": [
    "# Data Loading"
   ]
  },
  {
   "cell_type": "code",
   "execution_count": 5,
   "metadata": {
    "scrolled": true
   },
   "outputs": [
    {
     "data": {
      "text/html": [
       "<div>\n",
       "<style scoped>\n",
       "    .dataframe tbody tr th:only-of-type {\n",
       "        vertical-align: middle;\n",
       "    }\n",
       "\n",
       "    .dataframe tbody tr th {\n",
       "        vertical-align: top;\n",
       "    }\n",
       "\n",
       "    .dataframe thead th {\n",
       "        text-align: right;\n",
       "    }\n",
       "</style>\n",
       "<table border=\"1\" class=\"dataframe\">\n",
       "  <thead>\n",
       "    <tr style=\"text-align: right;\">\n",
       "      <th></th>\n",
       "      <th>Id</th>\n",
       "      <th>MSSubClass</th>\n",
       "      <th>MSZoning</th>\n",
       "      <th>LotFrontage</th>\n",
       "      <th>LotArea</th>\n",
       "      <th>Street</th>\n",
       "      <th>Alley</th>\n",
       "      <th>LotShape</th>\n",
       "      <th>LandContour</th>\n",
       "      <th>Utilities</th>\n",
       "      <th>...</th>\n",
       "      <th>PoolArea</th>\n",
       "      <th>PoolQC</th>\n",
       "      <th>Fence</th>\n",
       "      <th>MiscFeature</th>\n",
       "      <th>MiscVal</th>\n",
       "      <th>MoSold</th>\n",
       "      <th>YrSold</th>\n",
       "      <th>SaleType</th>\n",
       "      <th>SaleCondition</th>\n",
       "      <th>SalePrice</th>\n",
       "    </tr>\n",
       "  </thead>\n",
       "  <tbody>\n",
       "    <tr>\n",
       "      <th>0</th>\n",
       "      <td>1</td>\n",
       "      <td>60</td>\n",
       "      <td>RL</td>\n",
       "      <td>65.0</td>\n",
       "      <td>8450</td>\n",
       "      <td>Pave</td>\n",
       "      <td>NaN</td>\n",
       "      <td>Reg</td>\n",
       "      <td>Lvl</td>\n",
       "      <td>AllPub</td>\n",
       "      <td>...</td>\n",
       "      <td>0</td>\n",
       "      <td>NaN</td>\n",
       "      <td>NaN</td>\n",
       "      <td>NaN</td>\n",
       "      <td>0</td>\n",
       "      <td>2</td>\n",
       "      <td>2008</td>\n",
       "      <td>WD</td>\n",
       "      <td>Normal</td>\n",
       "      <td>208500</td>\n",
       "    </tr>\n",
       "    <tr>\n",
       "      <th>1</th>\n",
       "      <td>2</td>\n",
       "      <td>20</td>\n",
       "      <td>RL</td>\n",
       "      <td>80.0</td>\n",
       "      <td>9600</td>\n",
       "      <td>Pave</td>\n",
       "      <td>NaN</td>\n",
       "      <td>Reg</td>\n",
       "      <td>Lvl</td>\n",
       "      <td>AllPub</td>\n",
       "      <td>...</td>\n",
       "      <td>0</td>\n",
       "      <td>NaN</td>\n",
       "      <td>NaN</td>\n",
       "      <td>NaN</td>\n",
       "      <td>0</td>\n",
       "      <td>5</td>\n",
       "      <td>2007</td>\n",
       "      <td>WD</td>\n",
       "      <td>Normal</td>\n",
       "      <td>181500</td>\n",
       "    </tr>\n",
       "  </tbody>\n",
       "</table>\n",
       "<p>2 rows × 81 columns</p>\n",
       "</div>"
      ],
      "text/plain": [
       "   Id  MSSubClass MSZoning  LotFrontage  LotArea Street Alley LotShape  \\\n",
       "0   1          60       RL         65.0     8450   Pave   NaN      Reg   \n",
       "1   2          20       RL         80.0     9600   Pave   NaN      Reg   \n",
       "\n",
       "  LandContour Utilities    ...     PoolArea PoolQC Fence MiscFeature MiscVal  \\\n",
       "0         Lvl    AllPub    ...            0    NaN   NaN         NaN       0   \n",
       "1         Lvl    AllPub    ...            0    NaN   NaN         NaN       0   \n",
       "\n",
       "  MoSold YrSold  SaleType  SaleCondition  SalePrice  \n",
       "0      2   2008        WD         Normal     208500  \n",
       "1      5   2007        WD         Normal     181500  \n",
       "\n",
       "[2 rows x 81 columns]"
      ]
     },
     "execution_count": 5,
     "metadata": {},
     "output_type": "execute_result"
    }
   ],
   "source": [
    "df_train = pd.read_csv('../data/housing_usa/train.csv')\n",
    "df_train.head(2)"
   ]
  },
  {
   "cell_type": "code",
   "execution_count": 6,
   "metadata": {},
   "outputs": [],
   "source": [
    "y_train = np.log1p(df_train['SalePrice'])\n",
    "df_train = df_train.drop('SalePrice', axis = 1)"
   ]
  },
  {
   "cell_type": "code",
   "execution_count": 7,
   "metadata": {},
   "outputs": [],
   "source": [
    "cat_features = list(df_train.select_dtypes(include=['object']).columns.values)\n",
    "cat_indices = [df_train.columns.get_loc(name) for name in cat_features]\n",
    "\n",
    "df_train[cat_features] = df_train[cat_features].astype(str)"
   ]
  },
  {
   "cell_type": "code",
   "execution_count": 8,
   "metadata": {},
   "outputs": [],
   "source": [
    "pool_train = Pool(df_train, label = y_train, cat_features=cat_indices)"
   ]
  },
  {
   "cell_type": "markdown",
   "metadata": {},
   "source": [
    "## Exploratory Data Analysis\n",
    "### Data statistics"
   ]
  },
  {
   "cell_type": "code",
   "execution_count": 9,
   "metadata": {},
   "outputs": [
    {
     "name": "stdout",
     "output_type": "stream",
     "text": [
      "number of training instances = 1460\n",
      "number of features = 80\n",
      "number of categorical features = 43\n"
     ]
    }
   ],
   "source": [
    "print (\"number of training instances = {0}\".format(df_train.shape[0]))\n",
    "print (\"number of features = {0}\".format(df_train.shape[1]))\n",
    "print (\"number of categorical features = {0}\".format(len(cat_indices)))"
   ]
  },
  {
   "cell_type": "markdown",
   "metadata": {},
   "source": [
    "#### Price distribution (log scale)"
   ]
  },
  {
   "cell_type": "code",
   "execution_count": 10,
   "metadata": {},
   "outputs": [
    {
     "name": "stdout",
     "output_type": "stream",
     "text": [
      "mean = 12.0240573949, std_dev = 0.399312452194\n"
     ]
    }
   ],
   "source": [
    "print(\"mean = {0}, std_dev = {1}\".format(np.mean(y_train), np.std(y_train)))"
   ]
  },
  {
   "cell_type": "code",
   "execution_count": 11,
   "metadata": {},
   "outputs": [
    {
     "data": {
      "image/png": "[encoded data removed]",
      "text/plain": [
       "<matplotlib.figure.Figure at 0x7fb7dcb3c350>"
      ]
     },
     "metadata": {},
     "output_type": "display_data"
    }
   ],
   "source": [
    "sns.distplot(y_train, norm_hist=True)\n",
    "plt.xlabel('Price (log scale)')\n",
    "plt.ylabel('Percentage')\n",
    "plt.title('Price distribution (Russia)')\n",
    "plt.show()"
   ]
  },
  {
   "cell_type": "markdown",
   "metadata": {},
   "source": [
    "# CatBoost"
   ]
  },
  {
   "cell_type": "code",
   "execution_count": null,
   "metadata": {},
   "outputs": [],
   "source": [
    "%%notify\n",
    "model = CatBoostRegressor(loss_function = 'RMSE', custom_metric = 'RMSE',  calc_feature_importance = True)\n",
    "\n",
    "cv_params = model.get_params()\n",
    "cv_params['logging_level'] = 'Silent'\n",
    "del cv_params['calc_feature_importance']\n",
    "\n",
    "av_time = 0\n",
    "for i in range(0, n_time):\n",
    "    t = time.time()\n",
    "    cv_data = cv(cv_params, pool_train, fold_count=n_folds, shuffle = True)\n",
    "    av_time += time.time() - t"
   ]
  },
  {
   "cell_type": "code",
   "execution_count": null,
   "metadata": {},
   "outputs": [],
   "source": [
    "model.fit(pool_train, logging_level='Silent')"
   ]
  },
  {
   "cell_type": "code",
   "execution_count": 55,
   "metadata": {},
   "outputs": [
    {
     "name": "stdout",
     "output_type": "stream",
     "text": [
      "average cv time (CatBoost) = 295.17\n",
      "RMSLE (CatBoost) = 0.171622163189\n"
     ]
    }
   ],
   "source": [
    "print('average cv time (CatBoost) = {0:.2f}'.format(av_time / n_time))\n",
    "print('RMSLE (CatBoost) = {0}'.format(cv_data['RMSE_test_avg'][-1])) "
   ]
  },
  {
   "cell_type": "code",
   "execution_count": 63,
   "metadata": {},
   "outputs": [
    {
     "data": {
      "image/png": "[encoded data removed]",
      "text/plain": [
       "<matplotlib.figure.Figure at 0x7f4f3ffe4310>"
      ]
     },
     "metadata": {},
     "output_type": "display_data"
    }
   ],
   "source": [
    "top_features = plot_top_features(model, pool_train.get_feature_names(), 20)"
   ]
  },
  {
   "cell_type": "markdown",
   "metadata": {},
   "source": [
    "# XGBoost"
   ]
  },
  {
   "cell_type": "code",
   "execution_count": 12,
   "metadata": {},
   "outputs": [],
   "source": [
    "df_train_dummy = pd.get_dummies(df_train, columns = cat_features)"
   ]
  },
  {
   "cell_type": "markdown",
   "metadata": {},
   "source": [
    "### Default version"
   ]
  },
  {
   "cell_type": "code",
   "execution_count": 13,
   "metadata": {},
   "outputs": [],
   "source": [
    "xgboost_clf = Pipeline([('to_dense', DenseTransformer()), \n",
    "                        ('clf', xgb.XGBRegressor(eval_metric = 'rmse'))])\n",
    "_ = xgboost_clf.fit(df_train_dummy, y_train)\n",
    "\n",
    "av_time = 0\n",
    "for i in range(0, n_time):\n",
    "    t = time.time()\n",
    "    xgboost_cv = cross_val_score(xgboost_clf, df_train_dummy, y_train, \n",
    "                             scoring='neg_mean_squared_error', cv=n_folds, n_jobs = -1, verbose=False)\n",
    "    av_time += time.time() - t"
   ]
  },
  {
   "cell_type": "code",
   "execution_count": 16,
   "metadata": {},
   "outputs": [
    {
     "name": "stdout",
     "output_type": "stream",
     "text": [
      "average cv time (XGBoost) = 2.88 sec\n",
      "RMSLE (XGBoost) = 0.131508102578\n"
     ]
    }
   ],
   "source": [
    "print('average cv time (XGBoost) = {0:.2f} sec'.format(av_time / n_time))\n",
    "print('RMSLE (XGBoost) = {0}'.format(np.sqrt(-xgboost_cv.mean())))"
   ]
  },
  {
   "cell_type": "code",
   "execution_count": 17,
   "metadata": {},
   "outputs": [
    {
     "data": {
      "image/png": "[encoded data removed]",
      "text/plain": [
       "<matplotlib.figure.Figure at 0x7fb7dc98c610>"
      ]
     },
     "metadata": {},
     "output_type": "display_data"
    }
   ],
   "source": [
    "_ = plot_top_features(xgboost_clf.named_steps['clf'], df_train_dummy.columns.values, 20)"
   ]
  },
  {
   "cell_type": "code",
   "execution_count": 78,
   "metadata": {},
   "outputs": [],
   "source": [
    "grid_params = {\n",
    "    'clf__max_depth': [1, 2, 3],\n",
    "    'clf__learning_rate': [0.1, 0.05, 0.01],\n",
    "    'clf__n_estimators' : [100, 500, 1000]\n",
    "}"
   ]
  },
  {
   "cell_type": "code",
   "execution_count": 20,
   "metadata": {},
   "outputs": [
    {
     "name": "stdout",
     "output_type": "stream",
     "text": [
      "Fitting 5 folds for each of 27 candidates, totalling 135 fits\n"
     ]
    },
    {
     "name": "stderr",
     "output_type": "stream",
     "text": [
      "[Parallel(n_jobs=1)]: Done 135 out of 135 | elapsed:  7.7min finished\n"
     ]
    },
    {
     "data": {
      "text/plain": [
       "GridSearchCV(cv=5, error_score='raise',\n",
       "       estimator=XGBRegressor(base_score=0.5, booster='gbtree', colsample_bylevel=1,\n",
       "       colsample_bytree=1, eval_metric='rmse', gamma=0, learning_rate=0.1,\n",
       "       max_delta_step=0, max_depth=3, min_child_weight=1, missing=None,\n",
       "       n_estimators=100, n_jobs=1, nthread=None, objective='reg:linear',\n",
       "       random_state=0, reg_alpha=0, reg_lambda=1, scale_pos_weight=1,\n",
       "       seed=None, silent=True, subsample=1),\n",
       "       fit_params=None, iid=True, n_jobs=1,\n",
       "       param_grid={'n_estimators': [100, 500, 1000], 'learning_rate': [0.1, 0.05, 0.01], 'max_depth': [1, 2, 3]},\n",
       "       pre_dispatch='2*n_jobs', refit=True, return_train_score='warn',\n",
       "       scoring='neg_mean_squared_error', verbose=True)"
      ]
     },
     "execution_count": 20,
     "metadata": {},
     "output_type": "execute_result"
    }
   ],
   "source": [
    "grid_search_xgb = GridSearchCV(xgboost_clf, grid_params, scoring='neg_mean_squared_error', \n",
    "                               cv=n_folds, verbose=False)\n",
    "_ = grid_search_xgb.fit(df_train_dummy, y_train)"
   ]
  },
  {
   "cell_type": "code",
   "execution_count": 93,
   "metadata": {},
   "outputs": [
    {
     "data": {
      "text/plain": [
       "{'learning_rate': 0.1, 'max_depth': 2, 'n_estimators': 500}"
      ]
     },
     "execution_count": 93,
     "metadata": {},
     "output_type": "execute_result"
    }
   ],
   "source": [
    "best_parameters_xgb = max(grid_search_xgb.grid_scores_, key=lambda x: x[1])[0]\n",
    "best_parameters_xgb"
   ]
  },
  {
   "cell_type": "markdown",
   "metadata": {},
   "source": [
    "### Tuned version (with the best parameters found with grid search)"
   ]
  },
  {
   "cell_type": "code",
   "execution_count": 67,
   "metadata": {},
   "outputs": [],
   "source": [
    "xgboost_clf = Pipeline([('to_dense', DenseTransformer()), \n",
    "                        ('clf', xgb.XGBRegressor(eval_metric = 'rmse', \n",
    "                                                 learning_rate = best_parameters_xgb['learning_rate'], \n",
    "                                                 n_estimators = best_parameters_xgb['n_estimators'],\n",
    "                                                 max_depth = best_parameters_xgb['max_depth']))])"
   ]
  },
  {
   "cell_type": "code",
   "execution_count": 68,
   "metadata": {},
   "outputs": [],
   "source": [
    "av_time = 0\n",
    "for i in range(0, n_time):\n",
    "    t = time.time()\n",
    "    xgboost_cv = cross_val_score(xgboost_clf, df_train_dummy, y_train, \n",
    "                             scoring='neg_mean_squared_error', cv=n_folds, n_jobs = -1, verbose=False)\n",
    "    av_time += time.time() - t"
   ]
  },
  {
   "cell_type": "code",
   "execution_count": 69,
   "metadata": {},
   "outputs": [
    {
     "name": "stdout",
     "output_type": "stream",
     "text": [
      "average cv time (XGBoost) = 10.00 sec\n",
      "RMSLE (XGBoost) = 0.124583841629\n"
     ]
    }
   ],
   "source": [
    "print('average cv time (XGBoost) = {0:.2f} sec'.format(av_time / n_time))\n",
    "print('RMSLE (XGBoost) = {0}'.format(np.sqrt(-xgboost_cv.mean())))"
   ]
  },
  {
   "cell_type": "markdown",
   "metadata": {},
   "source": [
    "# GradientBoostingRegressor"
   ]
  },
  {
   "cell_type": "code",
   "execution_count": 107,
   "metadata": {},
   "outputs": [],
   "source": [
    "sk_boost_clf = Pipeline([('replace_nan', Imputer()),\n",
    "                        ('to_dense', DenseTransformer()), \n",
    "                        ('clf', GradientBoostingRegressor())])"
   ]
  },
  {
   "cell_type": "code",
   "execution_count": 108,
   "metadata": {},
   "outputs": [],
   "source": [
    "_ = sk_boost_clf.fit(df_train_dummy, y_train)"
   ]
  },
  {
   "cell_type": "code",
   "execution_count": 109,
   "metadata": {},
   "outputs": [],
   "source": [
    "av_time = 0\n",
    "for i in range(0, n_time):\n",
    "    t = time.time()\n",
    "    sklearn_cv = cross_val_score(sk_boost_clf, df_train_dummy, y_train, \n",
    "                     scoring='neg_mean_squared_error', cv=n_folds, n_jobs = -1, verbose=False)\n",
    "    av_time += time.time() - t"
   ]
  },
  {
   "cell_type": "code",
   "execution_count": 110,
   "metadata": {},
   "outputs": [
    {
     "name": "stdout",
     "output_type": "stream",
     "text": [
      "average cv time (GradientBoostingRegressor) = 19.01 sec\n",
      "RMSLE (GradientBoostingRegressor) = 0.12708622111\n"
     ]
    }
   ],
   "source": [
    "print('average cv time (GradientBoostingRegressor) = {0:.2f} sec'.format(av_time / n_time))\n",
    "print('RMSLE (GradientBoostingRegressor) = {0}'.format(np.sqrt(-sklearn_cv.mean())))"
   ]
  },
  {
   "cell_type": "code",
   "execution_count": 111,
   "metadata": {},
   "outputs": [
    {
     "data": {
      "image/png": "[encoded data removed]",
      "text/plain": [
       "<matplotlib.figure.Figure at 0x7fb7d805ddd0>"
      ]
     },
     "metadata": {},
     "output_type": "display_data"
    }
   ],
   "source": [
    "_ = plot_top_features(sk_boost_clf.named_steps['clf'], df_train_dummy.columns.values, 20)"
   ]
  },
  {
   "cell_type": "code",
   "execution_count": null,
   "metadata": {},
   "outputs": [],
   "source": [
    "grid_search_sk = GridSearchCV(sk_boost_clf, grid_params, scoring='neg_mean_squared_error', \n",
    "                               cv=n_folds, verbose=True)\n",
    "grid_search_sk.fit(df_train_dummy, y_train)"
   ]
  },
  {
   "cell_type": "code",
   "execution_count": null,
   "metadata": {},
   "outputs": [],
   "source": [
    "best_parameters_sk = max(grid_search_sk.grid_scores_, key=lambda x: x[1])[0]"
   ]
  },
  {
   "cell_type": "markdown",
   "metadata": {},
   "source": [
    "### Tuned version (with the best parameters found with grid search)"
   ]
  },
  {
   "cell_type": "code",
   "execution_count": null,
   "metadata": {},
   "outputs": [],
   "source": [
    "sk_boost_clf = Pipeline([('replace_nan', Imputer()),\n",
    "                        ('to_dense', DenseTransformer()), \n",
    "                        ('clf', GradientBoostingRegressor(learning_rate = best_parameters_sk['learning_rate'], \n",
    "                                                 n_estimators = best_parameters_sk['n_estimators'],\n",
    "                                                 max_depth = best_parameters_sk['max_depth']))])"
   ]
  },
  {
   "cell_type": "code",
   "execution_count": null,
   "metadata": {},
   "outputs": [],
   "source": [
    "av_time = 0\n",
    "for i in range(0, n_time):\n",
    "    t = time.time()\n",
    "    sklearn_cv = cross_val_score(sk_boost_clf, df_train_dummy, y_train, \n",
    "                             scoring='neg_mean_squared_error', cv=n_folds, n_jobs = -1, verbose=False)\n",
    "    av_time += time.time() - t"
   ]
  },
  {
   "cell_type": "code",
   "execution_count": null,
   "metadata": {},
   "outputs": [],
   "source": [
    "print('average cv time (GradientBoostingRegressor) = {0:.2f} sec'.format(av_time / n_time))\n",
    "print('RMSLE (GradientBoostingRegressor) = {0}'.format(np.sqrt(-sklearn_cv.mean())))"
   ]
  },
  {
   "cell_type": "code",
   "execution_count": null,
   "metadata": {},
   "outputs": [],
   "source": []
  },
  {
   "cell_type": "code",
   "execution_count": null,
   "metadata": {},
   "outputs": [],
   "source": []
  }
 ],
 "metadata": {
  "kernelspec": {
   "display_name": "Python 3",
   "language": "python",
   "name": "python3"
  },
  "language_info": {
   "codemirror_mode": {
    "name": "ipython",
    "version": 2
   },
   "file_extension": ".py",
   "mimetype": "text/x-python",
   "name": "python",
   "nbconvert_exporter": "python",
   "pygments_lexer": "ipython2",
   "version": "2.7.6"
  }
 },
 "nbformat": 4,
 "nbformat_minor": 2
}
