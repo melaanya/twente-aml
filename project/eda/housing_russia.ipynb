{
 "cells": [
  {
   "cell_type": "code",
   "execution_count": 25,
   "metadata": {},
   "outputs": [],
   "source": [
    "import catboost\n",
    "import matplotlib\n",
    "import matplotlib.pyplot as plt\n",
    "import numpy as np\n",
    "import pandas as pd\n",
    "import seaborn as sns\n",
    "import time\n",
    "import xgboost as xgb\n",
    "\n",
    "from catboost import Pool, CatBoostRegressor, CatBoostClassifier, cv\n",
    "from itertools import product, chain\n",
    "from matplotlib.backends.backend_pdf import PdfPages\n",
    "from matplotlib.pylab import rcParams\n",
    "from mlxtend.preprocessing import DenseTransformer\n",
    "\n",
    "from sklearn.ensemble import GradientBoostingRegressor\n",
    "from sklearn.metrics import mean_squared_error\n",
    "from sklearn.model_selection import cross_val_score, train_test_split, GridSearchCV, KFold\n",
    "from sklearn.pipeline import Pipeline\n",
    "from sklearn.preprocessing import Imputer\n",
    "\n",
    "from paramsearch import paramsearch\n",
    "import util\n",
    "reload(util)\n",
    "from util import plot_top_features, crossvaltest, catboost_param_tune\n",
    "\n",
    "\n",
    "\n",
    "# matplotlib settings\n",
    "matplotlib.style.use('ggplot')\n",
    "rcParams['figure.figsize'] = 12, 8\n",
    "rcParams['font.size'] = 12\n",
    "rcParams['axes.facecolor'] = 'white'"
   ]
  },
  {
   "cell_type": "code",
   "execution_count": 2,
   "metadata": {},
   "outputs": [
    {
     "data": {
      "application/javascript": [
       "if (!(\"Notification\" in window)) {\n",
       "    alert(\"This browser does not support desktop notifications, so the %%notify magic will not work.\");\n",
       "} else if (Notification.permission !== 'granted' && Notification.permission !== 'denied') {\n",
       "    Notification.requestPermission(function (permission) {\n",
       "        if(!('permission' in Notification)) {\n",
       "            Notification.permission = permission;\n",
       "        }\n",
       "    })\n",
       "}\n"
      ],
      "text/plain": [
       "<IPython.core.display.Javascript object>"
      ]
     },
     "metadata": {},
     "output_type": "display_data"
    }
   ],
   "source": [
    "# ! pip install jupyternotify\n",
    "%load_ext jupyternotify"
   ]
  },
  {
   "cell_type": "code",
   "execution_count": 3,
   "metadata": {},
   "outputs": [],
   "source": [
    "n_time = 3\n",
    "n_folds = 5"
   ]
  },
  {
   "cell_type": "markdown",
   "metadata": {},
   "source": [
    "## Loading the data"
   ]
  },
  {
   "cell_type": "code",
   "execution_count": 4,
   "metadata": {},
   "outputs": [
    {
     "data": {
      "text/html": [
       "<div>\n",
       "<style scoped>\n",
       "    .dataframe tbody tr th:only-of-type {\n",
       "        vertical-align: middle;\n",
       "    }\n",
       "\n",
       "    .dataframe tbody tr th {\n",
       "        vertical-align: top;\n",
       "    }\n",
       "\n",
       "    .dataframe thead th {\n",
       "        text-align: right;\n",
       "    }\n",
       "</style>\n",
       "<table border=\"1\" class=\"dataframe\">\n",
       "  <thead>\n",
       "    <tr style=\"text-align: right;\">\n",
       "      <th></th>\n",
       "      <th>id</th>\n",
       "      <th>timestamp</th>\n",
       "      <th>full_sq</th>\n",
       "      <th>life_sq</th>\n",
       "      <th>floor</th>\n",
       "      <th>max_floor</th>\n",
       "      <th>material</th>\n",
       "      <th>build_year</th>\n",
       "      <th>num_room</th>\n",
       "      <th>kitch_sq</th>\n",
       "      <th>...</th>\n",
       "      <th>cafe_count_5000_price_2500</th>\n",
       "      <th>cafe_count_5000_price_4000</th>\n",
       "      <th>cafe_count_5000_price_high</th>\n",
       "      <th>big_church_count_5000</th>\n",
       "      <th>church_count_5000</th>\n",
       "      <th>mosque_count_5000</th>\n",
       "      <th>leisure_count_5000</th>\n",
       "      <th>sport_count_5000</th>\n",
       "      <th>market_count_5000</th>\n",
       "      <th>price_doc</th>\n",
       "    </tr>\n",
       "  </thead>\n",
       "  <tbody>\n",
       "    <tr>\n",
       "      <th>0</th>\n",
       "      <td>1</td>\n",
       "      <td>2011-08-20</td>\n",
       "      <td>43</td>\n",
       "      <td>27.0</td>\n",
       "      <td>4.0</td>\n",
       "      <td>NaN</td>\n",
       "      <td>NaN</td>\n",
       "      <td>NaN</td>\n",
       "      <td>NaN</td>\n",
       "      <td>NaN</td>\n",
       "      <td>...</td>\n",
       "      <td>9</td>\n",
       "      <td>4</td>\n",
       "      <td>0</td>\n",
       "      <td>13</td>\n",
       "      <td>22</td>\n",
       "      <td>1</td>\n",
       "      <td>0</td>\n",
       "      <td>52</td>\n",
       "      <td>4</td>\n",
       "      <td>5850000</td>\n",
       "    </tr>\n",
       "    <tr>\n",
       "      <th>1</th>\n",
       "      <td>2</td>\n",
       "      <td>2011-08-23</td>\n",
       "      <td>34</td>\n",
       "      <td>19.0</td>\n",
       "      <td>3.0</td>\n",
       "      <td>NaN</td>\n",
       "      <td>NaN</td>\n",
       "      <td>NaN</td>\n",
       "      <td>NaN</td>\n",
       "      <td>NaN</td>\n",
       "      <td>...</td>\n",
       "      <td>15</td>\n",
       "      <td>3</td>\n",
       "      <td>0</td>\n",
       "      <td>15</td>\n",
       "      <td>29</td>\n",
       "      <td>1</td>\n",
       "      <td>10</td>\n",
       "      <td>66</td>\n",
       "      <td>14</td>\n",
       "      <td>6000000</td>\n",
       "    </tr>\n",
       "  </tbody>\n",
       "</table>\n",
       "<p>2 rows × 292 columns</p>\n",
       "</div>"
      ],
      "text/plain": [
       "   id   timestamp  full_sq  life_sq  floor  max_floor  material  build_year  \\\n",
       "0   1  2011-08-20       43     27.0    4.0        NaN       NaN         NaN   \n",
       "1   2  2011-08-23       34     19.0    3.0        NaN       NaN         NaN   \n",
       "\n",
       "   num_room  kitch_sq    ...      cafe_count_5000_price_2500  \\\n",
       "0       NaN       NaN    ...                               9   \n",
       "1       NaN       NaN    ...                              15   \n",
       "\n",
       "  cafe_count_5000_price_4000 cafe_count_5000_price_high  \\\n",
       "0                          4                          0   \n",
       "1                          3                          0   \n",
       "\n",
       "   big_church_count_5000  church_count_5000  mosque_count_5000  \\\n",
       "0                     13                 22                  1   \n",
       "1                     15                 29                  1   \n",
       "\n",
       "   leisure_count_5000  sport_count_5000  market_count_5000  price_doc  \n",
       "0                   0                52                  4    5850000  \n",
       "1                  10                66                 14    6000000  \n",
       "\n",
       "[2 rows x 292 columns]"
      ]
     },
     "execution_count": 4,
     "metadata": {},
     "output_type": "execute_result"
    }
   ],
   "source": [
    "data = pd.read_csv('../data/housing_russia/train.csv')\n",
    "data.head(2)"
   ]
  },
  {
   "cell_type": "markdown",
   "metadata": {},
   "source": [
    "### Data cleaning and new feature creation"
   ]
  },
  {
   "cell_type": "code",
   "execution_count": 5,
   "metadata": {},
   "outputs": [],
   "source": [
    "def split_timestamp(df):\n",
    "    df.timestamp = pd.to_datetime(df.timestamp)\n",
    "    df['day'] = df.timestamp.dt.day\n",
    "    df['month'] = df.timestamp.dt.month\n",
    "    df['year'] = df.timestamp.dt.year\n",
    "    df['quarter'] = np.ceil(df['month'] / 3).astype(int)\n",
    "\n",
    "split_timestamp(data)"
   ]
  },
  {
   "cell_type": "code",
   "execution_count": 6,
   "metadata": {},
   "outputs": [],
   "source": [
    "data = data[data.full_sq < 5000]\n",
    "data = data[data.life_sq < 5000]\n",
    "data = data[(data.build_year < 2017) & (data.build_year > 1700)]"
   ]
  },
  {
   "cell_type": "code",
   "execution_count": 7,
   "metadata": {},
   "outputs": [],
   "source": [
    "df_train, df_test, y_train, y_test = train_test_split(data, data.price_doc, test_size = 0.2,\n",
    "                                                     shuffle = True)\n",
    "df_train.is_copy = False\n",
    "df_test.is_copy = False"
   ]
  },
  {
   "cell_type": "code",
   "execution_count": 8,
   "metadata": {},
   "outputs": [],
   "source": [
    "# run once only\n",
    "y_train, y_test = np.log1p(y_train), np.log1p(y_test)\n",
    "\n",
    "df_train = df_train.drop(['price_doc', 'timestamp', 'id'], axis = 1)\n",
    "df_test = df_test.drop(['timestamp', 'id'], axis = 1)"
   ]
  },
  {
   "cell_type": "code",
   "execution_count": 9,
   "metadata": {},
   "outputs": [],
   "source": [
    "cat_features = list(df_train.select_dtypes(include=['object']).columns.values)\n",
    "cat_features.extend(['floor', 'max_floor', 'num_room'])\n",
    "df_train[cat_features] = df_train[cat_features].astype(str)\n",
    "df_test[cat_features] = df_test[cat_features].astype(str)\n",
    "\n",
    "cat_indices = [df_train.columns.get_loc(name) for name in cat_features]"
   ]
  },
  {
   "cell_type": "markdown",
   "metadata": {},
   "source": [
    "## Exploratory Data Analysis\n",
    "### Data statistics"
   ]
  },
  {
   "cell_type": "code",
   "execution_count": 10,
   "metadata": {
    "scrolled": true
   },
   "outputs": [
    {
     "name": "stdout",
     "output_type": "stream",
     "text": [
      "number of training instances = 12231\n",
      "number of features = 293\n",
      "number of categorical features = 18\n"
     ]
    }
   ],
   "source": [
    "print (\"number of training instances = {0}\".format(df_train.shape[0]))\n",
    "print (\"number of features = {0}\".format(df_train.shape[1]))\n",
    "print (\"number of categorical features = {0}\".format(len(cat_indices)))"
   ]
  },
  {
   "cell_type": "markdown",
   "metadata": {},
   "source": [
    "#### Price distribution (log scale)"
   ]
  },
  {
   "cell_type": "code",
   "execution_count": 11,
   "metadata": {},
   "outputs": [
    {
     "name": "stdout",
     "output_type": "stream",
     "text": [
      "mean = 15.6887966385, std_dev = 0.639511500069\n"
     ]
    }
   ],
   "source": [
    "print(\"mean = {0}, std_dev = {1}\".format(np.mean(y_train), np.std(y_train)))"
   ]
  },
  {
   "cell_type": "code",
   "execution_count": 12,
   "metadata": {
    "scrolled": false
   },
   "outputs": [
    {
     "data": {
      "image/png": "[encoded data removed]",
      "text/plain": [
       "<matplotlib.figure.Figure at 0x7efe6818c050>"
      ]
     },
     "metadata": {},
     "output_type": "display_data"
    }
   ],
   "source": [
    "sns.distplot(y_train, norm_hist=True)\n",
    "plt.xlabel('Price (log scale)')\n",
    "plt.ylabel('Percentage')\n",
    "plt.title('Price distribution (Russia)')\n",
    "plt.show()"
   ]
  },
  {
   "cell_type": "markdown",
   "metadata": {},
   "source": [
    "# Catboost: training and evaluating\n",
    "\n",
    "RMSLE is chosen as our primary evaluation metric. \n",
    "\n",
    "The easiest way to use it is to use already implemented in most of the libraries metric RMSE on the $\\ln(1 + y)$, where $y$ is the actual price."
   ]
  },
  {
   "cell_type": "code",
   "execution_count": 42,
   "metadata": {},
   "outputs": [],
   "source": [
    "pool_train = Pool(df_train, label = y_train, cat_features=cat_indices)\n",
    "pool_test = Pool(df_test, cat_features=cat_indices)"
   ]
  },
  {
   "cell_type": "code",
   "execution_count": 43,
   "metadata": {},
   "outputs": [
    {
     "data": {
      "application/javascript": [
       "$(document).ready(\n",
       "    function() {\n",
       "        function appendUniqueDiv(){\n",
       "            // append a div with our uuid so we can check that it's already\n",
       "            // been sent and avoid duplicates on page reload\n",
       "            var notifiedDiv = document.createElement(\"div\")\n",
       "            notifiedDiv.id = \"f4b47705-5abb-41a1-9f16-e4ee77900e61\"\n",
       "            element.append(notifiedDiv)\n",
       "        }\n",
       "\n",
       "        // only send notifications if the pageload is complete; this will\n",
       "        // help stop extra notifications when a saved notebook is loaded,\n",
       "        // which during testing gives us state \"interactive\", not \"complete\"\n",
       "        if (document.readyState === 'complete') {\n",
       "            // check for the div that signifies that the notification\n",
       "            // was already sent\n",
       "            if (document.getElementById(\"f4b47705-5abb-41a1-9f16-e4ee77900e61\") === null) {\n",
       "                var notificationPayload = {\"body\": \"Cell execution has finished!\", \"requireInteraction\": false, \"icon\": \"/static/base/images/favicon.ico\"};\n",
       "                if (Notification.permission !== 'denied') {\n",
       "                    if (Notification.permission !== 'granted') { \n",
       "                        Notification.requestPermission(function (permission) {\n",
       "                            if(!('permission' in Notification)) {\n",
       "                                Notification.permission = permission\n",
       "                            }\n",
       "                        })\n",
       "                    }\n",
       "                    if (Notification.permission === 'granted') {\n",
       "                    var notification = new Notification(\"Jupyter Notebook\", notificationPayload)\n",
       "                    appendUniqueDiv()\n",
       "                    notification.onclick = function () {\n",
       "                        window.focus();\n",
       "                        this.close();\n",
       "                        };\n",
       "                    } \n",
       "                }     \n",
       "            }\n",
       "        }\n",
       "    }\n",
       ")\n"
      ],
      "text/plain": [
       "<IPython.core.display.Javascript object>"
      ]
     },
     "metadata": {},
     "output_type": "display_data"
    }
   ],
   "source": [
    "model = CatBoostRegressor(loss_function = 'RMSE', custom_metric = 'RMSE',  calc_feature_importance = True)"
   ]
  },
  {
   "cell_type": "code",
   "execution_count": 44,
   "metadata": {},
   "outputs": [
    {
     "data": {
      "text/plain": [
       "<catboost.core._CatBoostBase at 0x7efe310942d0>"
      ]
     },
     "execution_count": 44,
     "metadata": {},
     "output_type": "execute_result"
    },
    {
     "data": {
      "application/javascript": [
       "$(document).ready(\n",
       "    function() {\n",
       "        function appendUniqueDiv(){\n",
       "            // append a div with our uuid so we can check that it's already\n",
       "            // been sent and avoid duplicates on page reload\n",
       "            var notifiedDiv = document.createElement(\"div\")\n",
       "            notifiedDiv.id = \"a746f71d-e043-46ae-ac6b-cef5ad45f8f7\"\n",
       "            element.append(notifiedDiv)\n",
       "        }\n",
       "\n",
       "        // only send notifications if the pageload is complete; this will\n",
       "        // help stop extra notifications when a saved notebook is loaded,\n",
       "        // which during testing gives us state \"interactive\", not \"complete\"\n",
       "        if (document.readyState === 'complete') {\n",
       "            // check for the div that signifies that the notification\n",
       "            // was already sent\n",
       "            if (document.getElementById(\"a746f71d-e043-46ae-ac6b-cef5ad45f8f7\") === null) {\n",
       "                var notificationPayload = {\"body\": \"Cell execution has finished!\", \"requireInteraction\": false, \"icon\": \"/static/base/images/favicon.ico\"};\n",
       "                if (Notification.permission !== 'denied') {\n",
       "                    if (Notification.permission !== 'granted') { \n",
       "                        Notification.requestPermission(function (permission) {\n",
       "                            if(!('permission' in Notification)) {\n",
       "                                Notification.permission = permission\n",
       "                            }\n",
       "                        })\n",
       "                    }\n",
       "                    if (Notification.permission === 'granted') {\n",
       "                    var notification = new Notification(\"Jupyter Notebook\", notificationPayload)\n",
       "                    appendUniqueDiv()\n",
       "                    notification.onclick = function () {\n",
       "                        window.focus();\n",
       "                        this.close();\n",
       "                        };\n",
       "                    } \n",
       "                }     \n",
       "            }\n",
       "        }\n",
       "    }\n",
       ")\n"
      ],
      "text/plain": [
       "<IPython.core.display.Javascript object>"
      ]
     },
     "metadata": {},
     "output_type": "display_data"
    }
   ],
   "source": [
    "%%notify\n",
    "model.fit(pool_train, logging_level='Silent')"
   ]
  },
  {
   "cell_type": "code",
   "execution_count": 45,
   "metadata": {},
   "outputs": [
    {
     "data": {
      "image/png": "[encoded data removed]",
      "text/plain": [
       "<matplotlib.figure.Figure at 0x7efe33af9bd0>"
      ]
     },
     "metadata": {},
     "output_type": "display_data"
    }
   ],
   "source": [
    "top_features = plot_top_features(model, pool_train.get_feature_names(), 10)"
   ]
  },
  {
   "cell_type": "markdown",
   "metadata": {},
   "source": [
    "### Evaluation"
   ]
  },
  {
   "cell_type": "code",
   "execution_count": 55,
   "metadata": {},
   "outputs": [],
   "source": [
    "cv_params = model.get_params()\n",
    "cv_params['logging_level'] = 'Silent'\n",
    "del cv_params['calc_feature_importance']"
   ]
  },
  {
   "cell_type": "code",
   "execution_count": null,
   "metadata": {},
   "outputs": [],
   "source": [
    "%%notify\n",
    "av_time = 0\n",
    "for i in range(0, n_time):\n",
    "    t = time.time()\n",
    "    cv_data = cv(cv_params, pool_train, fold_count=n_folds, shuffle = True)\n",
    "av_time += time.time() - t"
   ]
  },
  {
   "cell_type": "code",
   "execution_count": null,
   "metadata": {},
   "outputs": [],
   "source": [
    "print('average cv time (CatBoost) = {0:.2f}'.format(av_time / n_time))\n",
    "print('RMLSE (CatBoost) = {0}'.format(cv_data['RMSE_test_avg'][-1])) "
   ]
  },
  {
   "cell_type": "code",
   "execution_count": null,
   "metadata": {},
   "outputs": [],
   "source": [
    "cat_grid_params = {\n",
    "    'depth': [1, 2, 3],\n",
    "    'learning_rate': [0.1, 0.05, 0.01],\n",
    "    'iterations' : [100, 500, 1000]\n",
    "}\n",
    "best_params = catboost_param_tune(cat_grid_params, df_train, y_train, cat_indices, 5)\n",
    "print(best_params)"
   ]
  },
  {
   "cell_type": "markdown",
   "metadata": {},
   "source": [
    "### Tuned version (with the best parameters found with grid search)"
   ]
  },
  {
   "cell_type": "code",
   "execution_count": null,
   "metadata": {},
   "outputs": [],
   "source": [
    "%%notify\n",
    "model = CatBoostRegressor(**best_params)\n",
    "cv_params = model.get_params()\n",
    "del cv_params['calc_feature_importance']\n",
    "\n",
    "\n",
    "av_time = 0\n",
    "for i in range(0, n_time):\n",
    "    t = time.time()\n",
    "    cv_data = crossvaltest(cv_params, df_train, y_train, cat_indices, n_folds)\n",
    "    av_time += time.time() - t"
   ]
  },
  {
   "cell_type": "code",
   "execution_count": null,
   "metadata": {},
   "outputs": [],
   "source": [
    "print('average cv time (CatBoost) = {0:.2f}'.format(av_time / n_time))\n",
    "print('RMSLE (CatBoost) = {0}'.format(-cv_data)) "
   ]
  },
  {
   "cell_type": "markdown",
   "metadata": {},
   "source": [
    "### Feature importance"
   ]
  },
  {
   "cell_type": "code",
   "execution_count": null,
   "metadata": {},
   "outputs": [],
   "source": [
    "model.fit(pool_train, logging_level='Silent')"
   ]
  },
  {
   "cell_type": "code",
   "execution_count": null,
   "metadata": {},
   "outputs": [],
   "source": [
    "top_features = plot_top_features(model, pool_train, 20)"
   ]
  },
  {
   "cell_type": "markdown",
   "metadata": {},
   "source": [
    "# XGBoost"
   ]
  },
  {
   "cell_type": "code",
   "execution_count": 47,
   "metadata": {},
   "outputs": [],
   "source": [
    "df_train_dummy = pd.get_dummies(df_train, columns = cat_features)"
   ]
  },
  {
   "cell_type": "code",
   "execution_count": 48,
   "metadata": {},
   "outputs": [],
   "source": [
    "xgboost_clf = Pipeline([('to_dense', DenseTransformer()), \n",
    "                        ('clf', xgb.XGBRegressor(eval_metric = 'rmse'))])\n",
    "_ = xgboost_clf.fit(df_train_dummy, y_train)"
   ]
  },
  {
   "cell_type": "code",
   "execution_count": 15,
   "metadata": {},
   "outputs": [],
   "source": [
    "av_time = 0\n",
    "for i in range(0, n_time):\n",
    "    t = time.time()\n",
    "    xgboost_cv = cross_val_score(xgboost_clf, df_train_dummy, y_train, \n",
    "                             scoring='neg_mean_squared_error', cv=n_folds, n_jobs = -1, verbose=False)\n",
    "    av_time += time.time() - t"
   ]
  },
  {
   "cell_type": "code",
   "execution_count": 16,
   "metadata": {},
   "outputs": [
    {
     "name": "stdout",
     "output_type": "stream",
     "text": [
      "average cv time (XGBoost) = 47.72 sec\n",
      "RMSLE (XGBoost) = 0.509707318207\n"
     ]
    }
   ],
   "source": [
    "print('average cv time (XGBoost) = {0:.2f} sec'.format(av_time / n_time))\n",
    "print('RMSLE (XGBoost) = {0}'.format(np.sqrt(-xgboost_cv.mean())))"
   ]
  },
  {
   "cell_type": "code",
   "execution_count": 49,
   "metadata": {},
   "outputs": [
    {
     "data": {
      "image/png": "[encoded data removed]",
      "text/plain": [
       "<matplotlib.figure.Figure at 0x7efe31a1c390>"
      ]
     },
     "metadata": {},
     "output_type": "display_data"
    }
   ],
   "source": [
    "_ = plot_top_features(xgboost_clf.named_steps['clf'], df_train_dummy.columns.values, 10)"
   ]
  },
  {
   "cell_type": "code",
   "execution_count": 20,
   "metadata": {},
   "outputs": [],
   "source": [
    "grid_params = {\n",
    "    'clf__max_depth': [1, 2, 3],\n",
    "    'clf__learning_rate': [0.1, 0.05, 0.01],\n",
    "    'clf__n_estimators' : [100, 500, 1000]\n",
    "}"
   ]
  },
  {
   "cell_type": "code",
   "execution_count": 26,
   "metadata": {},
   "outputs": [],
   "source": [
    "grid_search_xgb = GridSearchCV(xgboost_clf, grid_params, scoring='neg_mean_squared_error', \n",
    "                               cv=n_folds, verbose=False)\n",
    "_ = grid_search_xgb.fit(df_train_dummy, y_train)"
   ]
  },
  {
   "cell_type": "code",
   "execution_count": 27,
   "metadata": {},
   "outputs": [
    {
     "name": "stderr",
     "output_type": "stream",
     "text": [
      "/usr/local/lib/python2.7/dist-packages/sklearn/model_selection/_search.py:761: DeprecationWarning: The grid_scores_ attribute was deprecated in version 0.18 in favor of the more elaborate cv_results_ attribute. The grid_scores_ attribute will not be available from 0.20\n",
      "  DeprecationWarning)\n"
     ]
    },
    {
     "data": {
      "text/plain": [
       "{'clf__learning_rate': 0.05, 'clf__max_depth': 2, 'clf__n_estimators': 500}"
      ]
     },
     "execution_count": 27,
     "metadata": {},
     "output_type": "execute_result"
    }
   ],
   "source": [
    "best_parameters_xgb = max(grid_search_xgb.grid_scores_, key=lambda x: x[1])[0]\n",
    "best_parameters_xgb"
   ]
  },
  {
   "cell_type": "markdown",
   "metadata": {},
   "source": [
    "### Tuned version (with the best parameters found with grid search)"
   ]
  },
  {
   "cell_type": "code",
   "execution_count": 28,
   "metadata": {},
   "outputs": [],
   "source": [
    "xgboost_clf = Pipeline([('to_dense', DenseTransformer()), \n",
    "                        ('clf', xgb.XGBRegressor(eval_metric = 'rmse', \n",
    "                                                 learning_rate = best_parameters_xgb['clf__learning_rate'], \n",
    "                                                 n_estimators = best_parameters_xgb['clf__n_estimators'],\n",
    "                                                 max_depth = best_parameters_xgb['clf__max_depth']))])"
   ]
  },
  {
   "cell_type": "code",
   "execution_count": 29,
   "metadata": {},
   "outputs": [],
   "source": [
    "av_time = 0\n",
    "for i in range(0, n_time):\n",
    "    t = time.time()\n",
    "    xgboost_cv = cross_val_score(xgboost_clf, df_train_dummy, y_train, \n",
    "                             scoring='neg_mean_squared_error', cv=n_folds, n_jobs = -1, verbose=False)\n",
    "    av_time += time.time() - t"
   ]
  },
  {
   "cell_type": "code",
   "execution_count": 30,
   "metadata": {},
   "outputs": [
    {
     "name": "stdout",
     "output_type": "stream",
     "text": [
      "average cv time (XGBoost) = 158.67 sec\n",
      "RMSLE (XGBoost) = 0.508731104867\n"
     ]
    }
   ],
   "source": [
    "print('average cv time (XGBoost) = {0:.2f} sec'.format(av_time / n_time))\n",
    "print('RMSLE (XGBoost) = {0}'.format(np.sqrt(-xgboost_cv.mean())))"
   ]
  },
  {
   "cell_type": "markdown",
   "metadata": {},
   "source": [
    "# GradientBoostingRegressor"
   ]
  },
  {
   "cell_type": "code",
   "execution_count": 50,
   "metadata": {},
   "outputs": [],
   "source": [
    "sk_boost_clf = Pipeline([('replace_nan', Imputer()),\n",
    "                        ('to_dense', DenseTransformer()), \n",
    "                        ('clf', GradientBoostingRegressor())])"
   ]
  },
  {
   "cell_type": "code",
   "execution_count": 51,
   "metadata": {},
   "outputs": [],
   "source": [
    "_ = sk_boost_clf.fit(df_train_dummy, y_train)"
   ]
  },
  {
   "cell_type": "code",
   "execution_count": 32,
   "metadata": {},
   "outputs": [],
   "source": [
    "av_time = 0\n",
    "for i in range(0, n_time):\n",
    "    t = time.time()\n",
    "    sklearn_cv = cross_val_score(sk_boost_clf, df_train_dummy, y_train, \n",
    "                             scoring='neg_mean_squared_error', cv=n_folds, n_jobs = -1, verbose=False)\n",
    "    av_time += time.time() - t"
   ]
  },
  {
   "cell_type": "code",
   "execution_count": 33,
   "metadata": {},
   "outputs": [
    {
     "name": "stdout",
     "output_type": "stream",
     "text": [
      "average cv time (GradientBoostingRegressor) = 148.41 sec\n",
      "RMSLE (GradientBoostingClassifier) = 0.510971801831\n"
     ]
    }
   ],
   "source": [
    "print('average cv time (GradientBoostingRegressor) = {0:.2f} sec'.format(av_time / n_time))\n",
    "print('RMSLE (GradientBoostingClassifier) = {0}'.format(np.sqrt(-sklearn_cv.mean())))"
   ]
  },
  {
   "cell_type": "code",
   "execution_count": 52,
   "metadata": {},
   "outputs": [
    {
     "data": {
      "image/png": "[encoded data removed]",
      "text/plain": [
       "<matplotlib.figure.Figure at 0x7efe311579d0>"
      ]
     },
     "metadata": {},
     "output_type": "display_data"
    }
   ],
   "source": [
    "_ = plot_top_features(sk_boost_clf.named_steps['clf'], df_train_dummy.columns.values, 10)"
   ]
  },
  {
   "cell_type": "code",
   "execution_count": 37,
   "metadata": {},
   "outputs": [
    {
     "name": "stdout",
     "output_type": "stream",
     "text": [
      "Fitting 5 folds for each of 27 candidates, totalling 135 fits\n"
     ]
    },
    {
     "name": "stderr",
     "output_type": "stream",
     "text": [
      "[Parallel(n_jobs=1)]: Done 135 out of 135 | elapsed: 514.0min finished\n"
     ]
    }
   ],
   "source": [
    "grid_search_sk = GridSearchCV(sk_boost_clf, grid_params, scoring='neg_mean_squared_error', \n",
    "                               cv=n_folds, verbose=True)\n",
    "_ = grid_search_sk.fit(df_train_dummy, y_train)"
   ]
  },
  {
   "cell_type": "code",
   "execution_count": 38,
   "metadata": {},
   "outputs": [
    {
     "name": "stderr",
     "output_type": "stream",
     "text": [
      "/usr/local/lib/python2.7/dist-packages/sklearn/model_selection/_search.py:761: DeprecationWarning: The grid_scores_ attribute was deprecated in version 0.18 in favor of the more elaborate cv_results_ attribute. The grid_scores_ attribute will not be available from 0.20\n",
      "  DeprecationWarning)\n"
     ]
    },
    {
     "data": {
      "text/plain": [
       "{'clf__learning_rate': 0.1, 'clf__max_depth': 1, 'clf__n_estimators': 1000}"
      ]
     },
     "execution_count": 38,
     "metadata": {},
     "output_type": "execute_result"
    }
   ],
   "source": [
    "best_parameters_sk = max(grid_search_sk.grid_scores_, key=lambda x: x[1])[0]\n",
    "best_parameters_sk"
   ]
  },
  {
   "cell_type": "markdown",
   "metadata": {},
   "source": [
    "### Tuned version (with the best parameters found with grid search)"
   ]
  },
  {
   "cell_type": "code",
   "execution_count": 39,
   "metadata": {},
   "outputs": [],
   "source": [
    "sk_boost_clf = Pipeline([('replace_nan', Imputer()),\n",
    "                        ('to_dense', DenseTransformer()), \n",
    "                        ('clf', GradientBoostingRegressor(learning_rate = best_parameters_sk['clf__learning_rate'], \n",
    "                                                 n_estimators = best_parameters_sk['clf__n_estimators'],\n",
    "                                                 max_depth = best_parameters_sk['clf__max_depth']))])"
   ]
  },
  {
   "cell_type": "code",
   "execution_count": 40,
   "metadata": {},
   "outputs": [],
   "source": [
    "av_time = 0\n",
    "for i in range(0, n_time):\n",
    "    t = time.time()\n",
    "    sklearn_cv = cross_val_score(sk_boost_clf, df_train_dummy, y_train, \n",
    "                             scoring='neg_mean_squared_error', cv=n_folds, n_jobs = -1, verbose=False)\n",
    "    av_time += time.time() - t"
   ]
  },
  {
   "cell_type": "code",
   "execution_count": 41,
   "metadata": {},
   "outputs": [
    {
     "name": "stdout",
     "output_type": "stream",
     "text": [
      "average cv time (GradientBoostingRegressor) = 474.05 sec\n",
      "RMSLE (GradientBoostingRegressor) = 0.509749214223\n"
     ]
    }
   ],
   "source": [
    "print('average cv time (GradientBoostingRegressor) = {0:.2f} sec'.format(av_time / n_time))\n",
    "print('RMSLE (GradientBoostingRegressor) = {0}'.format(np.sqrt(-sklearn_cv.mean())))"
   ]
  }
 ],
 "metadata": {
  "kernelspec": {
   "display_name": "Python 3",
   "language": "python",
   "name": "python3"
  },
  "language_info": {
   "codemirror_mode": {
    "name": "ipython",
    "version": 2
   },
   "file_extension": ".py",
   "mimetype": "text/x-python",
   "name": "python",
   "nbconvert_exporter": "python",
   "pygments_lexer": "ipython2",
   "version": "2.7.6"
  }
 },
 "nbformat": 4,
 "nbformat_minor": 2
}
